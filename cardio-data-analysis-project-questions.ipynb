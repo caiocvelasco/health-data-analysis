{
 "cells": [
  {
   "cell_type": "markdown",
   "metadata": {},
   "source": [
    "## Cardio Data Analysis - Questionnaire"
   ]
  },
  {
   "cell_type": "markdown",
   "metadata": {},
   "source": [
    "Please load \"cardio_base.csv\". \n",
    "This is a health dataset. Each row represents a person and corresponding attributes like age, height, weight, blood pressure, cholesterol level etc. \n",
    "\n",
    "Obs.: When asked about age, please calculate with age in years **rounded down**.\n",
    "\n",
    "1) How much heavier is the age group with the highest average weight than the age group with the lowest weight?\n",
    "\n",
    "2) Do people over 50 have higher cholesterol levels than the rest? If so, what is the percentage of that difference?\n",
    "\n",
    "3) Are men more likely to be a smoker than women? If so, how many times more? The data contains information to identify gender IDs.\n",
    "\n",
    "4) How tall are the tallest 1% of the people?\n",
    "\n",
    "5) Which two features have the highest spearman rank correlation?\n",
    "\n",
    "6) What percentage of people are more than 2 standard deviations far from the average height?\n",
    "\n",
    "7) What percentage of the population over 50 years old consume alcohol? Also use the cardio_alco.csv and merge the datasets on ID. Ignore those persons, where we have no alcohol consumption information.\n",
    "\n",
    "8) Which of the following statements is true with 95% confidence?\n",
    "a) Smokers have higher blood pressure than non-smokers\n",
    "b) Smokers have higher cholesterol level than non smokers\n",
    "c) Smokers weight less than non smokers\n",
    "d) Men have higher blood pressure than women\n"
   ]
  }
 ],
 "metadata": {
  "interpreter": {
   "hash": "ac7dd041828cf56631353191c608ccde6a0be02c5ac588a2993150c1410b91d4"
  },
  "kernelspec": {
   "display_name": "Python 3.9.7 ('base')",
   "language": "python",
   "name": "python3"
  },
  "language_info": {
   "name": "python",
   "version": "3.9.7"
  },
  "orig_nbformat": 4
 },
 "nbformat": 4,
 "nbformat_minor": 2
}
