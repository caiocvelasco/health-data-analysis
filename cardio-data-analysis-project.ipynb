{
 "cells": [
  {
   "cell_type": "markdown",
   "metadata": {},
   "source": [
    "# Cardio Data Analysis"
   ]
  },
  {
   "cell_type": "markdown",
   "metadata": {},
   "source": [
    "## Contents\n",
    "\n",
    "* About\n",
    "    * Project Development\n",
    "    * Problem Definition\n",
    "    * Objective\n",
    "* Data\n",
    "    * Libraries\n",
    "    * Importing\n",
    "    * Variables\n",
    "    * Important Definitions\n",
    "* Exploratory Data Analysis (EDA)\n",
    "    * Plotting Objectives\n",
    "    * Functions\n",
    "    * Shape and Size\n",
    "    * Types\n",
    "    * Unique Values\n",
    "    * Missing Values\n",
    "    * Units Conversion\n",
    "    * Numeric and Categorical Variables\n",
    "        * Numeric Variables (both Continuous and Discrete)\n",
    "            * Summary statistics\n",
    "            * Probability Distribution\n",
    "            * Outliers Detection and Treatment & Inconsistencies\n",
    "        * Categorical Variables\n",
    "            * Bar Plots\n",
    "    * Correlation Matrix Heatmap\n",
    "* Questions"
   ]
  },
  {
   "cell_type": "markdown",
   "metadata": {},
   "source": [
    "## About\n",
    "\n",
    "### Project Development\n",
    "This project was developed locally with Visual Studio Code and GitHub version control.\n",
    "\n",
    "Please check this project @ [GitHub page](https://caiocvelasco.github.io/) or @ [GitHub Repository - Cardio Data Analysis](https://github.com/caiocvelasco/health-data-analysis/blob/a4fafbcd8148a6d501f42a10ae9d313fc3b268e1/cardio-data-analysis-project.ipynb).\n",
    "\n",
    "### Problem Definition\n",
    "\n",
    "A client would like to understand some important patients' cardio-related descriptive statistics.\n",
    "\n",
    "### Objective\n",
    "Our goal is to calculate some descriptive statistics."
   ]
  },
  {
   "cell_type": "markdown",
   "metadata": {},
   "source": [
    "## Data\n",
    "Data was already available on a _csv_ format.\n",
    "\n",
    "### Libraries"
   ]
  },
  {
   "cell_type": "code",
   "execution_count": 3,
   "metadata": {},
   "outputs": [],
   "source": [
    "# !pip install seaborn pandas matplotlib numpy\n",
    "import pandas as pd              # for data analysis\n",
    "import numpy as np               # for scientific computing\n",
    "import scipy                     # for scientific computing\n",
    "import scipy.stats as stats      # for scientific computing\n",
    "\n",
    "import os                        # for file interactions in the user's operating system\n",
    "import warnings                  # for dealing with warning messages if need be\n",
    "warnings.filterwarnings('ignore')\n",
    "\n",
    "import matplotlib.pyplot as plt  # for data visualization\n",
    "import seaborn as sns            # for data visualization"
   ]
  },
  {
   "cell_type": "markdown",
   "metadata": {},
   "source": [
    "### Importing"
   ]
  },
  {
   "cell_type": "code",
   "execution_count": 4,
   "metadata": {},
   "outputs": [
    {
     "data": {
      "text/html": [
       "<div>\n",
       "<style scoped>\n",
       "    .dataframe tbody tr th:only-of-type {\n",
       "        vertical-align: middle;\n",
       "    }\n",
       "\n",
       "    .dataframe tbody tr th {\n",
       "        vertical-align: top;\n",
       "    }\n",
       "\n",
       "    .dataframe thead th {\n",
       "        text-align: right;\n",
       "    }\n",
       "</style>\n",
       "<table border=\"1\" class=\"dataframe\">\n",
       "  <thead>\n",
       "    <tr style=\"text-align: right;\">\n",
       "      <th></th>\n",
       "      <th>0</th>\n",
       "      <th>1</th>\n",
       "      <th>2</th>\n",
       "      <th>3</th>\n",
       "      <th>4</th>\n",
       "    </tr>\n",
       "  </thead>\n",
       "  <tbody>\n",
       "    <tr>\n",
       "      <th>id</th>\n",
       "      <td>0.0</td>\n",
       "      <td>1.0</td>\n",
       "      <td>2.0</td>\n",
       "      <td>3.0</td>\n",
       "      <td>4.0</td>\n",
       "    </tr>\n",
       "    <tr>\n",
       "      <th>age</th>\n",
       "      <td>18393.0</td>\n",
       "      <td>20228.0</td>\n",
       "      <td>18857.0</td>\n",
       "      <td>17623.0</td>\n",
       "      <td>17474.0</td>\n",
       "    </tr>\n",
       "    <tr>\n",
       "      <th>gender</th>\n",
       "      <td>2.0</td>\n",
       "      <td>1.0</td>\n",
       "      <td>1.0</td>\n",
       "      <td>2.0</td>\n",
       "      <td>1.0</td>\n",
       "    </tr>\n",
       "    <tr>\n",
       "      <th>height</th>\n",
       "      <td>168.0</td>\n",
       "      <td>156.0</td>\n",
       "      <td>165.0</td>\n",
       "      <td>169.0</td>\n",
       "      <td>156.0</td>\n",
       "    </tr>\n",
       "    <tr>\n",
       "      <th>weight</th>\n",
       "      <td>62.0</td>\n",
       "      <td>85.0</td>\n",
       "      <td>64.0</td>\n",
       "      <td>82.0</td>\n",
       "      <td>56.0</td>\n",
       "    </tr>\n",
       "    <tr>\n",
       "      <th>ap_hi</th>\n",
       "      <td>110.0</td>\n",
       "      <td>140.0</td>\n",
       "      <td>130.0</td>\n",
       "      <td>150.0</td>\n",
       "      <td>100.0</td>\n",
       "    </tr>\n",
       "    <tr>\n",
       "      <th>ap_lo</th>\n",
       "      <td>80.0</td>\n",
       "      <td>90.0</td>\n",
       "      <td>70.0</td>\n",
       "      <td>100.0</td>\n",
       "      <td>60.0</td>\n",
       "    </tr>\n",
       "    <tr>\n",
       "      <th>cholesterol</th>\n",
       "      <td>1.0</td>\n",
       "      <td>3.0</td>\n",
       "      <td>3.0</td>\n",
       "      <td>1.0</td>\n",
       "      <td>1.0</td>\n",
       "    </tr>\n",
       "    <tr>\n",
       "      <th>smoke</th>\n",
       "      <td>0.0</td>\n",
       "      <td>0.0</td>\n",
       "      <td>0.0</td>\n",
       "      <td>0.0</td>\n",
       "      <td>0.0</td>\n",
       "    </tr>\n",
       "  </tbody>\n",
       "</table>\n",
       "</div>"
      ],
      "text/plain": [
       "                   0        1        2        3        4\n",
       "id               0.0      1.0      2.0      3.0      4.0\n",
       "age          18393.0  20228.0  18857.0  17623.0  17474.0\n",
       "gender           2.0      1.0      1.0      2.0      1.0\n",
       "height         168.0    156.0    165.0    169.0    156.0\n",
       "weight          62.0     85.0     64.0     82.0     56.0\n",
       "ap_hi          110.0    140.0    130.0    150.0    100.0\n",
       "ap_lo           80.0     90.0     70.0    100.0     60.0\n",
       "cholesterol      1.0      3.0      3.0      1.0      1.0\n",
       "smoke            0.0      0.0      0.0      0.0      0.0"
      ]
     },
     "execution_count": 4,
     "metadata": {},
     "output_type": "execute_result"
    }
   ],
   "source": [
    "# Basic Settings\n",
    "csv_folder_name = \"health_dataset\"  # please, change the folder name (where the CSV files are stored) if need be\n",
    "notebook_location = \"C:\\\\Users\\\\caiov\\\\OneDrive - UCLA IT Services\\\\Documentos\\\\DataScience\\\\Datasets\" # set the location where this notebook is saved\n",
    "csv_folder_path = notebook_location + \"\\\\\" + csv_folder_name  # set path for the CSV files\n",
    "os.chdir(csv_folder_path)                                     # set location of CSV files\n",
    "\n",
    "# Save CVSs Data on a Pandas Dataframe\n",
    "df_cardio_base = pd.read_csv(\"cardio_base.csv\", sep = \",\", skipinitialspace = True) #skip space after delimiter if need be\n",
    "df_cardio_alc  = pd.read_csv(\"cardio_alco.csv\", sep = \";\", skipinitialspace = True) #skip space after delimiter if need be\n",
    "\n",
    "# Save a Copy of the Dataframe\n",
    "data     = df_cardio_base.copy()\n",
    "data_alc = df_cardio_alc.copy()\n",
    "\n",
    "# Dataset Manipulation\n",
    "data.name = \"Cardio Base Dataset\" # rename the dataset\n",
    "cols      = data.columns;              # create an index list with feature names\n",
    "\n",
    "data_alc.name = \"Alcohol Behavior Dataset\" # rename the dataset\n",
    "cols_alc      = data_alc.columns;              # create an index list with feature names\n",
    "\n",
    "# Quick Overview of a Sample from the Data\n",
    "pd.set_option('display.max_columns', None) # changing the max_columns value\n",
    "data.head().T"
   ]
  },
  {
   "cell_type": "markdown",
   "metadata": {},
   "source": [
    "### Important Definitions\n",
    "\n",
    "Variables may be classified into two main categories: **Numeric** or **Categorical**.\n",
    "\n",
    "#### Numeric (or Quantitative) variables\n",
    "A numeric variable is a quantifiable characteristic whose values are numbers (except numbers which are codes standing up for categories). \n",
    "* Note: Numeric variables may be either **Continuous** or **Discrete**.\n",
    "\n",
    "**[Definition]** Continuous variables: Those related to real numbers in mathematics (e.g.: 1.034), which brings the mathematical nature of uncountable infinity, i.e., \"an infinite amount of numbers\". It is usually expressed as float64 in computer science and is connected the idea of precision. Example: Height, which can be as precise as we want.\n",
    "\n",
    "**[Definition]** Discrete variables: Those related to integer numbers in mathematics (e.g.: 34), which brings the mathematical nature of finiteness, i.e., \"a fixed amount of numbers\". It is usually expressed as int64 in computer science. Note that in this case, precision has no meaning. Example: Age, in which precision has no meaning.\n",
    "\n",
    "#### Categorical (or Qualitative) variables\n",
    "A Categorical variable refers to a characteristic that can’t be quantifiable.\n",
    "* Note: Categorical variables can be either **Nominal** or **Ordinal**.\n",
    "\n",
    "**[Definition]** Nominal variables: is one that describes a name, label or category without natural order. Example: Gender.\n",
    "\n",
    "**[Definition]** Ordinal variables: An ordinal variable is a variable whose values are defined by an order relation between the different categories. Example: Rating System (excellent, good, bad)."
   ]
  },
  {
   "cell_type": "markdown",
   "metadata": {},
   "source": [
    "### Variables\n",
    "\n",
    "Let's take a closer look at the variables and their documentation.\n",
    "\n",
    "| Feature                  | Variable Type (broad)  | Variable Type (specific) | Variable    | value type |\n",
    "|:-------------------------|:-----------------------|:-------------------------|:------------|:-----------|\n",
    "| Unique ID                | Categorical Variable   | Ordinal Variable         | id          | int\n",
    "| Age                      | Numeric Variable       | Discrete Variable        | age         | int (days)\n",
    "| Gender                   | Categorical Variable   | Nominal Variable         | gender      | int (binary)\n",
    "| Height                   | Numeric Variable       | Continuous Variable      | height      | int (cm)\n",
    "| Weight                   | Numeric Variable       | Continuous Variable      | weight      | float (kg)\n",
    "| Systolic blood pressure  | Numeric Variable       | Continuous Variable      | ap_hi       | int\n",
    "| Diastolic blood pressure | Numeric Variable       | Continuous Variable      | ap_lo       | int\n",
    "| Cholesterol              | Categorical Variable   | Ordinal Variable         | cholesterol | int (1: normal, 2: above normal, 3: well above normal)\n",
    "| Smoking                  | Categorical Variable   | Nominal Variable         | smoke       | int (binary)"
   ]
  },
  {
   "cell_type": "code",
   "execution_count": 5,
   "metadata": {},
   "outputs": [],
   "source": [
    "# Store the relevant Categorical Variables for analysis on a list\n",
    "cat_cols = ['gender', 'cholesterol', 'smoke']\n",
    "\n",
    "# Store the relevant Numeric Variables for analysis on a list\n",
    "num_cols = ['age', 'height', 'weight', 'ap_hi', 'ap_lo']     \n"
   ]
  },
  {
   "cell_type": "markdown",
   "metadata": {},
   "source": [
    "## Exploratory Data Analysis (EDA)"
   ]
  },
  {
   "cell_type": "markdown",
   "metadata": {},
   "source": [
    "### Plotting Objectives\n",
    "Before diving into the EDA, it is good to have a clear goal in mind. Our goal is to calculate some descriptive statistics.\n",
    "\n",
    "Given our goal, the following points should help explore and visualize data accordingly:\n",
    " * Check features and their distributions, unidimensionally.\n",
    " * Check correlation between features, bidimensionally."
   ]
  },
  {
   "cell_type": "markdown",
   "metadata": {},
   "source": [
    "### Defining Functions for EDA"
   ]
  },
  {
   "cell_type": "code",
   "execution_count": 6,
   "metadata": {},
   "outputs": [],
   "source": [
    "### DATA ANALYSIS PART ###\n",
    "\n",
    "# Checking Shape\n",
    "def data_shape(data):\n",
    "    print(\"Dataset shape: \" + str(data.shape[0]) + \" observations and \" + str(data.shape[1]) + \" features.\")\n",
    "\n",
    "# Check Size\n",
    "def data_size(data):\n",
    "    print(\"This dataset has a total of: \" + str(data.size) + \" entries.\")\n",
    "\n",
    "# Check Information\n",
    "def data_info(data):\n",
    "    print(data.name)\n",
    "    print(\"--------------------------------------\")\n",
    "    data.info()\n",
    "    print(\"--------------------------------------\")  \n",
    "\n",
    "# Check for Duplicates\n",
    "def duplicated_rows(data):\n",
    "    print(\"There are: \" + str(data.duplicated(keep='first').sum()) + \" duplicated observations (not including first unique ocurrence).\")\n",
    "\n",
    "# Get Unique Values - Relevant Categorical Variables\n",
    "def unique_values(data, columns_list):                      # define a function (output: unique values for categorical variables on the numeric format 'int')\n",
    "    for i in columns_list:                                   # cols is the list of features from this dataset defined in the section above\n",
    "        print('Unique values in', i, 'are', data[i].unique()) # calls function unique() to find get unique values\n",
    "        print('----------------------------------------------------------------------------------------------------')\n",
    "\n",
    "# Check for Missing Values\n",
    "def missing_values(data):\n",
    "    print('Checking for missing values in the', data.name) # data.name has been defined previously in the \"Importing\" section\n",
    "    print('------------------------------------------------------------')\n",
    "    print(data.isna().sum())\n",
    "    print('------------------------------------------------------------')\n",
    "\n",
    "# Save Data - Numeric & Continuous Variables\n",
    "def save_num_data(data, columns_list):\n",
    "    num_data = data[columns_list]\n",
    "    num_data.name = \"Cardio Base Dataset - Numerical Variables\" # rename the dataset\n",
    "    return num_data\n",
    "    \n",
    "# Save Data - Relevant Categorical Variable\n",
    "def save_cat_data(data, columns_list):\n",
    "    cat_data = data[columns_list]\n",
    "    cat_data.name = \"Cardio Base Dataset - Categorical Variables\" # rename the dataset\n",
    "    return cat_data\n",
    "\n",
    "# IQR Method - Detecting Outliers\n",
    "def iqr_method(potential_outliers, data): #arg 1 takes list of features with potential outliers, arg2 \n",
    "    i = 1\n",
    "    for col in potential_outliers:\n",
    "        Q1 = data[col].quantile(0.25)\n",
    "        Q3 = data[col].quantile(0.75)\n",
    "        IQR = Q3 - Q1\n",
    "        print(f'column {i}: {data[col].name}\\n------------------------')\n",
    "        print('1st quantile => ',Q1)\n",
    "        print('3rd quantile => ',Q3)\n",
    "        print('IQR =>',IQR)\n",
    "\n",
    "        lower_bound  = Q1-(1.5*IQR)\n",
    "        print('lower_bound => ' + str(lower_bound))\n",
    "\n",
    "        upper_bound = Q3+(1.5*IQR)\n",
    "        print('upper_bound => ' + str(upper_bound))\n",
    "        print(\"\\n------------------------\")\n",
    "        \n",
    "        i = i + 1\n",
    "\n",
    "        data[col][(data[col] < lower_bound) | (data[col] > upper_bound)] = np.nan  # replacing outliers with NaN\n",
    "\n",
    "# Outliers Method - For Height and Weight\n",
    "def bound_method(data):\n",
    "    for col in data:\n",
    "        data[col][ (data[col] > data[col].quantile(0.975)) | (data[col] < data[col].quantile(0.025))] = np.nan  # replacing outliers with NaN\n",
    "\n",
    "# Unstack Rank Correlation Matrix (Spearman) and get Top N Correlations\n",
    "def get_redundant_pairs(df):\n",
    "    '''Get diagonal and lower triangular pairs of correlation matrix'''\n",
    "    pairs_to_drop = set()\n",
    "    cols = df.columns\n",
    "    for i in range(0, df.shape[1]):\n",
    "        for j in range(0, i+1):\n",
    "            pairs_to_drop.add((cols[i], cols[j]))\n",
    "    return pairs_to_drop\n",
    "\n",
    "def get_top_abs_correlations(df, n=5):\n",
    "    au_corr = df.corr().abs().unstack()\n",
    "    labels_to_drop = get_redundant_pairs(df)\n",
    "    au_corr = au_corr.drop(labels=labels_to_drop).sort_values(ascending=False)\n",
    "    return au_corr[0:n]\n",
    "\n",
    "### VISUALIZATION PART ###\n",
    "\n",
    "# Plot Probability Distributions - Continuous Variables\n",
    "def pdf_plot_cont(data):\n",
    "    for i in data:\n",
    "        ax = sns.displot(data[i], kind=\"kde\")\n",
    "        plt.show()\n",
    "\n",
    "# Plot Bar Plots - Categorical Variables (and order by value_counts within them)\n",
    "def bar_plot_cat(data):\n",
    "    plt.figure(figsize=(5,4))\n",
    "    for i in data:\n",
    "        ax = sns.countplot(x = data[i], order = data[i].value_counts().index)\n",
    "        plt.show()\n",
    "\n",
    "# Plot Box Plots - Continuous Variables with Groups\n",
    "def box_plot(data): # the first argument takes a list of features and the second the dataset\n",
    "    for i in data:\n",
    "        ax = sns.boxplot(x = data[i], orient = 'h')\n",
    "        plt.show()"
   ]
  },
  {
   "cell_type": "markdown",
   "metadata": {},
   "source": [
    "### Shape and Size"
   ]
  },
  {
   "cell_type": "code",
   "execution_count": 7,
   "metadata": {},
   "outputs": [
    {
     "name": "stdout",
     "output_type": "stream",
     "text": [
      "Dataset shape: 70000 observations and 9 features.\n",
      "This dataset has a total of: 630000 entries.\n"
     ]
    }
   ],
   "source": [
    "# Check Shape and Size\n",
    "data_shape(data) # calls shape function\n",
    "data_size(data)  # calls size function"
   ]
  },
  {
   "cell_type": "markdown",
   "metadata": {},
   "source": [
    "### Types"
   ]
  },
  {
   "cell_type": "code",
   "execution_count": 8,
   "metadata": {},
   "outputs": [
    {
     "name": "stdout",
     "output_type": "stream",
     "text": [
      "Cardio Base Dataset\n",
      "--------------------------------------\n",
      "<class 'pandas.core.frame.DataFrame'>\n",
      "RangeIndex: 70000 entries, 0 to 69999\n",
      "Data columns (total 9 columns):\n",
      " #   Column       Non-Null Count  Dtype  \n",
      "---  ------       --------------  -----  \n",
      " 0   id           70000 non-null  int64  \n",
      " 1   age          70000 non-null  int64  \n",
      " 2   gender       70000 non-null  int64  \n",
      " 3   height       70000 non-null  int64  \n",
      " 4   weight       70000 non-null  float64\n",
      " 5   ap_hi        70000 non-null  int64  \n",
      " 6   ap_lo        70000 non-null  int64  \n",
      " 7   cholesterol  70000 non-null  int64  \n",
      " 8   smoke        70000 non-null  int64  \n",
      "dtypes: float64(1), int64(8)\n",
      "memory usage: 4.8 MB\n",
      "--------------------------------------\n"
     ]
    }
   ],
   "source": [
    "# Check Data Type\n",
    "data_info(data) # calls info function"
   ]
  },
  {
   "cell_type": "markdown",
   "metadata": {},
   "source": [
    "All features have the expected type, but height, which should be interpreted as float.\n",
    "\n",
    "Notice that all non-null counts are the same, so the dataset does not seem to have missing values. \n",
    "\n",
    "However, it is always good to check whether discrete variables have the expected values. These are: __gender, cholesterol, smoke__. \n",
    "\n",
    "For that, we will look into _Unique values_."
   ]
  },
  {
   "cell_type": "code",
   "execution_count": 9,
   "metadata": {},
   "outputs": [
    {
     "name": "stdout",
     "output_type": "stream",
     "text": [
      "<class 'pandas.core.frame.DataFrame'>\n",
      "RangeIndex: 70000 entries, 0 to 69999\n",
      "Data columns (total 9 columns):\n",
      " #   Column       Non-Null Count  Dtype  \n",
      "---  ------       --------------  -----  \n",
      " 0   id           70000 non-null  int64  \n",
      " 1   age          70000 non-null  int64  \n",
      " 2   gender       70000 non-null  int64  \n",
      " 3   height       70000 non-null  float64\n",
      " 4   weight       70000 non-null  float64\n",
      " 5   ap_hi        70000 non-null  float64\n",
      " 6   ap_lo        70000 non-null  float64\n",
      " 7   cholesterol  70000 non-null  int64  \n",
      " 8   smoke        70000 non-null  int64  \n",
      "dtypes: float64(4), int64(5)\n",
      "memory usage: 4.8 MB\n"
     ]
    }
   ],
   "source": [
    "# Converting height, ap_hi, and ap_lo types from int to float\n",
    "data['height'] = data['height'].astype('float64')\n",
    "data['ap_hi']  = data['ap_hi'].astype('float64')\n",
    "data['ap_lo']  = data['ap_lo'].astype('float64')\n",
    "\n",
    "# Check new type for Height\n",
    "data.info()"
   ]
  },
  {
   "cell_type": "markdown",
   "metadata": {},
   "source": [
    "### Duplicated Values\n",
    "Let's check for duplicated observations."
   ]
  },
  {
   "cell_type": "code",
   "execution_count": 10,
   "metadata": {},
   "outputs": [
    {
     "name": "stdout",
     "output_type": "stream",
     "text": [
      "There are: 0 duplicated observations (not including first unique ocurrence).\n"
     ]
    }
   ],
   "source": [
    "# Check for duplicates\n",
    "duplicated_rows(data)"
   ]
  },
  {
   "cell_type": "markdown",
   "metadata": {},
   "source": [
    "### Unique Values\n",
    "Let's take a closer look into the discrete variables."
   ]
  },
  {
   "cell_type": "code",
   "execution_count": 11,
   "metadata": {},
   "outputs": [
    {
     "name": "stdout",
     "output_type": "stream",
     "text": [
      "Unique values in gender are [2 1]\n",
      "----------------------------------------------------------------------------------------------------\n",
      "Unique values in cholesterol are [1 3 2]\n",
      "----------------------------------------------------------------------------------------------------\n",
      "Unique values in smoke are [0 1]\n",
      "----------------------------------------------------------------------------------------------------\n"
     ]
    }
   ],
   "source": [
    "# Check for Unique Values on Categorical Variables\n",
    "unique_values(data, cat_cols) # calls unique values function"
   ]
  },
  {
   "cell_type": "markdown",
   "metadata": {},
   "source": [
    "All indicator variables the expected values. There are no inconsistent values."
   ]
  },
  {
   "cell_type": "markdown",
   "metadata": {},
   "source": [
    "### Missing Values"
   ]
  },
  {
   "cell_type": "markdown",
   "metadata": {},
   "source": [
    "In this dataset, there is no missing values in the N/A format."
   ]
  },
  {
   "cell_type": "code",
   "execution_count": 12,
   "metadata": {},
   "outputs": [
    {
     "name": "stdout",
     "output_type": "stream",
     "text": [
      "Checking for missing values in the Cardio Base Dataset\n",
      "------------------------------------------------------------\n",
      "id             0\n",
      "age            0\n",
      "gender         0\n",
      "height         0\n",
      "weight         0\n",
      "ap_hi          0\n",
      "ap_lo          0\n",
      "cholesterol    0\n",
      "smoke          0\n",
      "dtype: int64\n",
      "------------------------------------------------------------\n"
     ]
    }
   ],
   "source": [
    "# Check for missing values (before treating for outliers)\n",
    "missing_values(data) # calls missing values function"
   ]
  },
  {
   "cell_type": "markdown",
   "metadata": {},
   "source": [
    "### Units Conversion\n",
    "\n",
    "Checking whether theer is a need for unit conversion in the given features.\n",
    "\n",
    "The variable age is in days, so we need to convert it to years and round it down, as requested. The other variables are okay."
   ]
  },
  {
   "cell_type": "code",
   "execution_count": 13,
   "metadata": {},
   "outputs": [
    {
     "name": "stdout",
     "output_type": "stream",
     "text": [
      "Check old and new features:\n",
      "       age  age_years_float\n",
      "16322   59        59.923288\n",
      "10825   57        57.936986\n",
      "43571   63        63.649315\n",
      "27791   60        60.380822\n",
      "4519    52        52.082192\n",
      "\n",
      "Check new dataset with new values for the Age feature:\n"
     ]
    },
    {
     "data": {
      "text/html": [
       "<div>\n",
       "<style scoped>\n",
       "    .dataframe tbody tr th:only-of-type {\n",
       "        vertical-align: middle;\n",
       "    }\n",
       "\n",
       "    .dataframe tbody tr th {\n",
       "        vertical-align: top;\n",
       "    }\n",
       "\n",
       "    .dataframe thead th {\n",
       "        text-align: right;\n",
       "    }\n",
       "</style>\n",
       "<table border=\"1\" class=\"dataframe\">\n",
       "  <thead>\n",
       "    <tr style=\"text-align: right;\">\n",
       "      <th></th>\n",
       "      <th>id</th>\n",
       "      <th>age</th>\n",
       "      <th>gender</th>\n",
       "      <th>height</th>\n",
       "      <th>weight</th>\n",
       "      <th>ap_hi</th>\n",
       "      <th>ap_lo</th>\n",
       "      <th>cholesterol</th>\n",
       "      <th>smoke</th>\n",
       "    </tr>\n",
       "  </thead>\n",
       "  <tbody>\n",
       "    <tr>\n",
       "      <th>0</th>\n",
       "      <td>0</td>\n",
       "      <td>50</td>\n",
       "      <td>2</td>\n",
       "      <td>168.0</td>\n",
       "      <td>62.0</td>\n",
       "      <td>110.0</td>\n",
       "      <td>80.0</td>\n",
       "      <td>1</td>\n",
       "      <td>0</td>\n",
       "    </tr>\n",
       "    <tr>\n",
       "      <th>1</th>\n",
       "      <td>1</td>\n",
       "      <td>55</td>\n",
       "      <td>1</td>\n",
       "      <td>156.0</td>\n",
       "      <td>85.0</td>\n",
       "      <td>140.0</td>\n",
       "      <td>90.0</td>\n",
       "      <td>3</td>\n",
       "      <td>0</td>\n",
       "    </tr>\n",
       "    <tr>\n",
       "      <th>2</th>\n",
       "      <td>2</td>\n",
       "      <td>51</td>\n",
       "      <td>1</td>\n",
       "      <td>165.0</td>\n",
       "      <td>64.0</td>\n",
       "      <td>130.0</td>\n",
       "      <td>70.0</td>\n",
       "      <td>3</td>\n",
       "      <td>0</td>\n",
       "    </tr>\n",
       "    <tr>\n",
       "      <th>3</th>\n",
       "      <td>3</td>\n",
       "      <td>48</td>\n",
       "      <td>2</td>\n",
       "      <td>169.0</td>\n",
       "      <td>82.0</td>\n",
       "      <td>150.0</td>\n",
       "      <td>100.0</td>\n",
       "      <td>1</td>\n",
       "      <td>0</td>\n",
       "    </tr>\n",
       "    <tr>\n",
       "      <th>4</th>\n",
       "      <td>4</td>\n",
       "      <td>47</td>\n",
       "      <td>1</td>\n",
       "      <td>156.0</td>\n",
       "      <td>56.0</td>\n",
       "      <td>100.0</td>\n",
       "      <td>60.0</td>\n",
       "      <td>1</td>\n",
       "      <td>0</td>\n",
       "    </tr>\n",
       "  </tbody>\n",
       "</table>\n",
       "</div>"
      ],
      "text/plain": [
       "   id  age  gender  height  weight  ap_hi  ap_lo  cholesterol  smoke\n",
       "0   0   50       2   168.0    62.0  110.0   80.0            1      0\n",
       "1   1   55       1   156.0    85.0  140.0   90.0            3      0\n",
       "2   2   51       1   165.0    64.0  130.0   70.0            3      0\n",
       "3   3   48       2   169.0    82.0  150.0  100.0            1      0\n",
       "4   4   47       1   156.0    56.0  100.0   60.0            1      0"
      ]
     },
     "execution_count": 13,
     "metadata": {},
     "output_type": "execute_result"
    }
   ],
   "source": [
    "# Converting Age from days to years .apply(np.floor)\n",
    "data['age_years_float'] = (data['age'] / 365)\n",
    "data['age']       = (data['age'] / 365).apply(np.floor).astype(int)\n",
    "\n",
    "# Quick overview of age conversion\n",
    "print(\"Check old and new features:\")\n",
    "print(data[['age', 'age_years_float']].sample(5))\n",
    "\n",
    "# Drop unecessary features\n",
    "print(\"\\nCheck new dataset with new values for the Age feature:\")\n",
    "data = data.drop(columns = 'age_years_float')\n",
    "\n",
    "# Quickly check new data\n",
    "data.head()"
   ]
  },
  {
   "cell_type": "markdown",
   "metadata": {},
   "source": [
    "### Numeric and Categorical Variables"
   ]
  },
  {
   "cell_type": "code",
   "execution_count": 14,
   "metadata": {},
   "outputs": [
    {
     "data": {
      "text/html": [
       "<div>\n",
       "<style scoped>\n",
       "    .dataframe tbody tr th:only-of-type {\n",
       "        vertical-align: middle;\n",
       "    }\n",
       "\n",
       "    .dataframe tbody tr th {\n",
       "        vertical-align: top;\n",
       "    }\n",
       "\n",
       "    .dataframe thead th {\n",
       "        text-align: right;\n",
       "    }\n",
       "</style>\n",
       "<table border=\"1\" class=\"dataframe\">\n",
       "  <thead>\n",
       "    <tr style=\"text-align: right;\">\n",
       "      <th></th>\n",
       "      <th>age</th>\n",
       "      <th>height</th>\n",
       "      <th>weight</th>\n",
       "      <th>ap_hi</th>\n",
       "      <th>ap_lo</th>\n",
       "    </tr>\n",
       "  </thead>\n",
       "  <tbody>\n",
       "    <tr>\n",
       "      <th>31167</th>\n",
       "      <td>39</td>\n",
       "      <td>170.0</td>\n",
       "      <td>110.0</td>\n",
       "      <td>150.0</td>\n",
       "      <td>1000.0</td>\n",
       "    </tr>\n",
       "    <tr>\n",
       "      <th>29182</th>\n",
       "      <td>57</td>\n",
       "      <td>155.0</td>\n",
       "      <td>69.0</td>\n",
       "      <td>140.0</td>\n",
       "      <td>90.0</td>\n",
       "    </tr>\n",
       "    <tr>\n",
       "      <th>27047</th>\n",
       "      <td>41</td>\n",
       "      <td>173.0</td>\n",
       "      <td>60.0</td>\n",
       "      <td>120.0</td>\n",
       "      <td>80.0</td>\n",
       "    </tr>\n",
       "    <tr>\n",
       "      <th>56492</th>\n",
       "      <td>54</td>\n",
       "      <td>165.0</td>\n",
       "      <td>65.0</td>\n",
       "      <td>140.0</td>\n",
       "      <td>80.0</td>\n",
       "    </tr>\n",
       "    <tr>\n",
       "      <th>22095</th>\n",
       "      <td>43</td>\n",
       "      <td>168.0</td>\n",
       "      <td>121.0</td>\n",
       "      <td>140.0</td>\n",
       "      <td>1000.0</td>\n",
       "    </tr>\n",
       "  </tbody>\n",
       "</table>\n",
       "</div>"
      ],
      "text/plain": [
       "       age  height  weight  ap_hi   ap_lo\n",
       "31167   39   170.0   110.0  150.0  1000.0\n",
       "29182   57   155.0    69.0  140.0    90.0\n",
       "27047   41   173.0    60.0  120.0    80.0\n",
       "56492   54   165.0    65.0  140.0    80.0\n",
       "22095   43   168.0   121.0  140.0  1000.0"
      ]
     },
     "execution_count": 14,
     "metadata": {},
     "output_type": "execute_result"
    }
   ],
   "source": [
    "# Save numeric dataset into a new dataset for later use\n",
    "num_data = save_num_data(data, num_cols) # calls save_num_data function and stores output\n",
    "\n",
    "# Quick Overview\n",
    "num_data.sample(5)"
   ]
  },
  {
   "cell_type": "code",
   "execution_count": 15,
   "metadata": {},
   "outputs": [
    {
     "data": {
      "text/html": [
       "<div>\n",
       "<style scoped>\n",
       "    .dataframe tbody tr th:only-of-type {\n",
       "        vertical-align: middle;\n",
       "    }\n",
       "\n",
       "    .dataframe tbody tr th {\n",
       "        vertical-align: top;\n",
       "    }\n",
       "\n",
       "    .dataframe thead th {\n",
       "        text-align: right;\n",
       "    }\n",
       "</style>\n",
       "<table border=\"1\" class=\"dataframe\">\n",
       "  <thead>\n",
       "    <tr style=\"text-align: right;\">\n",
       "      <th></th>\n",
       "      <th>gender</th>\n",
       "      <th>cholesterol</th>\n",
       "      <th>smoke</th>\n",
       "    </tr>\n",
       "  </thead>\n",
       "  <tbody>\n",
       "    <tr>\n",
       "      <th>45177</th>\n",
       "      <td>1</td>\n",
       "      <td>1</td>\n",
       "      <td>0</td>\n",
       "    </tr>\n",
       "    <tr>\n",
       "      <th>21194</th>\n",
       "      <td>1</td>\n",
       "      <td>1</td>\n",
       "      <td>0</td>\n",
       "    </tr>\n",
       "    <tr>\n",
       "      <th>28765</th>\n",
       "      <td>2</td>\n",
       "      <td>1</td>\n",
       "      <td>0</td>\n",
       "    </tr>\n",
       "    <tr>\n",
       "      <th>41704</th>\n",
       "      <td>2</td>\n",
       "      <td>1</td>\n",
       "      <td>1</td>\n",
       "    </tr>\n",
       "    <tr>\n",
       "      <th>16488</th>\n",
       "      <td>1</td>\n",
       "      <td>1</td>\n",
       "      <td>0</td>\n",
       "    </tr>\n",
       "  </tbody>\n",
       "</table>\n",
       "</div>"
      ],
      "text/plain": [
       "       gender  cholesterol  smoke\n",
       "45177       1            1      0\n",
       "21194       1            1      0\n",
       "28765       2            1      0\n",
       "41704       2            1      1\n",
       "16488       1            1      0"
      ]
     },
     "execution_count": 15,
     "metadata": {},
     "output_type": "execute_result"
    }
   ],
   "source": [
    "# Save categorical dataset into a new dataset for later use\n",
    "cat_data = save_cat_data(data, cat_cols) # calls save_cat_data function and stores output\n",
    "\n",
    "# Quick Overview\n",
    "cat_data.sample(5)"
   ]
  },
  {
   "cell_type": "markdown",
   "metadata": {},
   "source": [
    "### Numeric Variables\n",
    "\n",
    "In this section, we will check whether the most common statistics makes sense for the Numeric Variables. We'll check the max and min values. We'll also check for outliers."
   ]
  },
  {
   "cell_type": "markdown",
   "metadata": {},
   "source": [
    "#### Summary Statistics"
   ]
  },
  {
   "cell_type": "code",
   "execution_count": 16,
   "metadata": {},
   "outputs": [
    {
     "data": {
      "text/html": [
       "<div>\n",
       "<style scoped>\n",
       "    .dataframe tbody tr th:only-of-type {\n",
       "        vertical-align: middle;\n",
       "    }\n",
       "\n",
       "    .dataframe tbody tr th {\n",
       "        vertical-align: top;\n",
       "    }\n",
       "\n",
       "    .dataframe thead th {\n",
       "        text-align: right;\n",
       "    }\n",
       "</style>\n",
       "<table border=\"1\" class=\"dataframe\">\n",
       "  <thead>\n",
       "    <tr style=\"text-align: right;\">\n",
       "      <th></th>\n",
       "      <th>count</th>\n",
       "      <th>mean</th>\n",
       "      <th>std</th>\n",
       "      <th>min</th>\n",
       "      <th>25%</th>\n",
       "      <th>50%</th>\n",
       "      <th>75%</th>\n",
       "      <th>max</th>\n",
       "    </tr>\n",
       "  </thead>\n",
       "  <tbody>\n",
       "    <tr>\n",
       "      <th>age</th>\n",
       "      <td>70000.0</td>\n",
       "      <td>52.840671</td>\n",
       "      <td>6.766774</td>\n",
       "      <td>29.0</td>\n",
       "      <td>48.0</td>\n",
       "      <td>53.0</td>\n",
       "      <td>58.0</td>\n",
       "      <td>64.0</td>\n",
       "    </tr>\n",
       "    <tr>\n",
       "      <th>height</th>\n",
       "      <td>70000.0</td>\n",
       "      <td>164.359229</td>\n",
       "      <td>8.210126</td>\n",
       "      <td>55.0</td>\n",
       "      <td>159.0</td>\n",
       "      <td>165.0</td>\n",
       "      <td>170.0</td>\n",
       "      <td>250.0</td>\n",
       "    </tr>\n",
       "    <tr>\n",
       "      <th>weight</th>\n",
       "      <td>70000.0</td>\n",
       "      <td>74.205690</td>\n",
       "      <td>14.395757</td>\n",
       "      <td>10.0</td>\n",
       "      <td>65.0</td>\n",
       "      <td>72.0</td>\n",
       "      <td>82.0</td>\n",
       "      <td>200.0</td>\n",
       "    </tr>\n",
       "    <tr>\n",
       "      <th>ap_hi</th>\n",
       "      <td>70000.0</td>\n",
       "      <td>128.817286</td>\n",
       "      <td>154.011419</td>\n",
       "      <td>-150.0</td>\n",
       "      <td>120.0</td>\n",
       "      <td>120.0</td>\n",
       "      <td>140.0</td>\n",
       "      <td>16020.0</td>\n",
       "    </tr>\n",
       "    <tr>\n",
       "      <th>ap_lo</th>\n",
       "      <td>70000.0</td>\n",
       "      <td>96.630414</td>\n",
       "      <td>188.472530</td>\n",
       "      <td>-70.0</td>\n",
       "      <td>80.0</td>\n",
       "      <td>80.0</td>\n",
       "      <td>90.0</td>\n",
       "      <td>11000.0</td>\n",
       "    </tr>\n",
       "  </tbody>\n",
       "</table>\n",
       "</div>"
      ],
      "text/plain": [
       "          count        mean         std    min    25%    50%    75%      max\n",
       "age     70000.0   52.840671    6.766774   29.0   48.0   53.0   58.0     64.0\n",
       "height  70000.0  164.359229    8.210126   55.0  159.0  165.0  170.0    250.0\n",
       "weight  70000.0   74.205690   14.395757   10.0   65.0   72.0   82.0    200.0\n",
       "ap_hi   70000.0  128.817286  154.011419 -150.0  120.0  120.0  140.0  16020.0\n",
       "ap_lo   70000.0   96.630414  188.472530  -70.0   80.0   80.0   90.0  11000.0"
      ]
     },
     "execution_count": 16,
     "metadata": {},
     "output_type": "execute_result"
    }
   ],
   "source": [
    "# Summary Statistics - Numerical Variables\n",
    "num_data.describe().T"
   ]
  },
  {
   "cell_type": "markdown",
   "metadata": {},
   "source": [
    "#### Probability Distributions"
   ]
  },
  {
   "cell_type": "code",
   "execution_count": 17,
   "metadata": {},
   "outputs": [
    {
     "data": {
      "image/png": "[encoded data removed]",
      "text/plain": [
       "<Figure size 360x360 with 1 Axes>"
      ]
     },
     "metadata": {
      "needs_background": "light"
     },
     "output_type": "display_data"
    },
    {
     "data": {
      "image/png": "[encoded data removed]",
      "text/plain": [
       "<Figure size 360x360 with 1 Axes>"
      ]
     },
     "metadata": {
      "needs_background": "light"
     },
     "output_type": "display_data"
    },
    {
     "data": {
      "image/png": "[encoded data removed]",
      "text/plain": [
       "<Figure size 360x360 with 1 Axes>"
      ]
     },
     "metadata": {
      "needs_background": "light"
     },
     "output_type": "display_data"
    },
    {
     "data": {
      "image/png": "[encoded data removed]",
      "text/plain": [
       "<Figure size 360x360 with 1 Axes>"
      ]
     },
     "metadata": {
      "needs_background": "light"
     },
     "output_type": "display_data"
    },
    {
     "data": {
      "image/png": "[encoded data removed]",
      "text/plain": [
       "<Figure size 360x360 with 1 Axes>"
      ]
     },
     "metadata": {
      "needs_background": "light"
     },
     "output_type": "display_data"
    }
   ],
   "source": [
    "#### Probability Distributions (PDFs) - Numerical Variables\n",
    "pdf_plot_cont(num_data) # calls pdf plot function"
   ]
  },
  {
   "cell_type": "markdown",
   "metadata": {},
   "source": [
    "Some features are strongly skewed to the right, let's focus on those. They are: **ap_hi, ap_lo**.\n",
    "\n",
    "This information is important because it supports the methods we use for:\n",
    "* Outliers Detection and Treatment"
   ]
  },
  {
   "cell_type": "markdown",
   "metadata": {},
   "source": [
    "#### Outliers Detection and Treatment & Inconsistencies\n",
    "\n",
    "Outliers can be found due to variation within the data (i.e., due to an unexpected large variance in a feature) or due to mistakes. Both cases can be dealt with. We started by looking at the probability distribution of those features and we noticed their skewness, which might indicated possible candidate features for outliers. We also looked at the summary statistics which also show unexpected values."
   ]
  },
  {
   "cell_type": "code",
   "execution_count": 18,
   "metadata": {},
   "outputs": [
    {
     "data": {
      "image/png": "[encoded data removed]",
      "text/plain": [
       "<Figure size 432x288 with 1 Axes>"
      ]
     },
     "metadata": {
      "needs_background": "light"
     },
     "output_type": "display_data"
    },
    {
     "data": {
      "image/png": "[encoded data removed]",
      "text/plain": [
       "<Figure size 432x288 with 1 Axes>"
      ]
     },
     "metadata": {
      "needs_background": "light"
     },
     "output_type": "display_data"
    },
    {
     "data": {
      "image/png": "[encoded data removed]",
      "text/plain": [
       "<Figure size 432x288 with 1 Axes>"
      ]
     },
     "metadata": {
      "needs_background": "light"
     },
     "output_type": "display_data"
    },
    {
     "data": {
      "image/png": "[encoded data removed]",
      "text/plain": [
       "<Figure size 432x288 with 1 Axes>"
      ]
     },
     "metadata": {
      "needs_background": "light"
     },
     "output_type": "display_data"
    },
    {
     "data": {
      "image/png": "[encoded data removed]",
      "text/plain": [
       "<Figure size 432x288 with 1 Axes>"
      ]
     },
     "metadata": {
      "needs_background": "light"
     },
     "output_type": "display_data"
    }
   ],
   "source": [
    "# Boxplots (before treating for outliers) - Numerical Variables\n",
    "box_plot(num_data)"
   ]
  },
  {
   "cell_type": "markdown",
   "metadata": {},
   "source": [
    "For Height and Weight, we will use intuition and remove those that fall below 2.5% or above 97.5% of a given range.\n",
    "\n",
    "For Diastolic and Systolic, we will do the same but we will also correct the cases where diastolic pressure is higher than systolic (because this is not correct) and the cases where blood pressures is negative, which is also incorrect."
   ]
  },
  {
   "cell_type": "code",
   "execution_count": 19,
   "metadata": {},
   "outputs": [],
   "source": [
    "# Handling Outliers within a given range\n",
    "bound_method(data)"
   ]
  },
  {
   "cell_type": "code",
   "execution_count": 20,
   "metadata": {},
   "outputs": [
    {
     "name": "stdout",
     "output_type": "stream",
     "text": [
      "Diastilic pressure is higher than systolic one in 0 cases.\n"
     ]
    }
   ],
   "source": [
    "# Check whether Diastolic > Systolic\n",
    "print(\"Diastilic pressure is higher than systolic one in {0} cases.\".format(data[data['ap_lo'] > data['ap_hi']].shape[0]))"
   ]
  },
  {
   "cell_type": "code",
   "execution_count": 21,
   "metadata": {},
   "outputs": [
    {
     "name": "stdout",
     "output_type": "stream",
     "text": [
      "Diastilic pressure is higher than systolic one in 0 cases.\n"
     ]
    }
   ],
   "source": [
    "# Assign NaN values to ap_lo and ap_hi when this incorrect case of Diastolic > Systolic is true\n",
    "data['ap_lo'][ data['ap_lo'] > data['ap_hi'] ] = np.nan\n",
    "data['ap_hi'][ data['ap_lo'] > data['ap_hi'] ] = np.nan\n",
    "\n",
    "print(\"Diastilic pressure is higher than systolic one in {0} cases.\".format(data[data['ap_lo'] > data['ap_hi']].shape[0]))"
   ]
  },
  {
   "cell_type": "code",
   "execution_count": 22,
   "metadata": {},
   "outputs": [
    {
     "data": {
      "text/html": [
       "<div>\n",
       "<style scoped>\n",
       "    .dataframe tbody tr th:only-of-type {\n",
       "        vertical-align: middle;\n",
       "    }\n",
       "\n",
       "    .dataframe tbody tr th {\n",
       "        vertical-align: top;\n",
       "    }\n",
       "\n",
       "    .dataframe thead th {\n",
       "        text-align: right;\n",
       "    }\n",
       "</style>\n",
       "<table border=\"1\" class=\"dataframe\">\n",
       "  <thead>\n",
       "    <tr style=\"text-align: right;\">\n",
       "      <th></th>\n",
       "      <th>count</th>\n",
       "      <th>mean</th>\n",
       "      <th>std</th>\n",
       "      <th>min</th>\n",
       "      <th>25%</th>\n",
       "      <th>50%</th>\n",
       "      <th>75%</th>\n",
       "      <th>max</th>\n",
       "    </tr>\n",
       "  </thead>\n",
       "  <tbody>\n",
       "    <tr>\n",
       "      <th>age</th>\n",
       "      <td>69996.0</td>\n",
       "      <td>52.842020</td>\n",
       "      <td>6.764616</td>\n",
       "      <td>39.0</td>\n",
       "      <td>48.0</td>\n",
       "      <td>53.0</td>\n",
       "      <td>58.0</td>\n",
       "      <td>64.0</td>\n",
       "    </tr>\n",
       "    <tr>\n",
       "      <th>height</th>\n",
       "      <td>67024.0</td>\n",
       "      <td>164.404616</td>\n",
       "      <td>6.942338</td>\n",
       "      <td>150.0</td>\n",
       "      <td>159.0</td>\n",
       "      <td>165.0</td>\n",
       "      <td>169.0</td>\n",
       "      <td>180.0</td>\n",
       "    </tr>\n",
       "    <tr>\n",
       "      <th>weight</th>\n",
       "      <td>66897.0</td>\n",
       "      <td>73.715140</td>\n",
       "      <td>12.069034</td>\n",
       "      <td>51.0</td>\n",
       "      <td>65.0</td>\n",
       "      <td>72.0</td>\n",
       "      <td>81.0</td>\n",
       "      <td>108.0</td>\n",
       "    </tr>\n",
       "    <tr>\n",
       "      <th>ap_hi</th>\n",
       "      <td>67536.0</td>\n",
       "      <td>126.728412</td>\n",
       "      <td>14.855947</td>\n",
       "      <td>100.0</td>\n",
       "      <td>120.0</td>\n",
       "      <td>120.0</td>\n",
       "      <td>140.0</td>\n",
       "      <td>170.0</td>\n",
       "    </tr>\n",
       "    <tr>\n",
       "      <th>ap_lo</th>\n",
       "      <td>68085.0</td>\n",
       "      <td>81.028641</td>\n",
       "      <td>8.784395</td>\n",
       "      <td>60.0</td>\n",
       "      <td>80.0</td>\n",
       "      <td>80.0</td>\n",
       "      <td>90.0</td>\n",
       "      <td>100.0</td>\n",
       "    </tr>\n",
       "  </tbody>\n",
       "</table>\n",
       "</div>"
      ],
      "text/plain": [
       "          count        mean        std    min    25%    50%    75%    max\n",
       "age     69996.0   52.842020   6.764616   39.0   48.0   53.0   58.0   64.0\n",
       "height  67024.0  164.404616   6.942338  150.0  159.0  165.0  169.0  180.0\n",
       "weight  66897.0   73.715140  12.069034   51.0   65.0   72.0   81.0  108.0\n",
       "ap_hi   67536.0  126.728412  14.855947  100.0  120.0  120.0  140.0  170.0\n",
       "ap_lo   68085.0   81.028641   8.784395   60.0   80.0   80.0   90.0  100.0"
      ]
     },
     "execution_count": 22,
     "metadata": {},
     "output_type": "execute_result"
    }
   ],
   "source": [
    "# Save New Numeric Dataset without outliers\n",
    "new_num_data = save_num_data(data, num_cols) # calls save_num_data function and stores output\n",
    "\n",
    "# Summary Statistics - New Numerical Variables without outliers\n",
    "new_num_data.describe().T"
   ]
  },
  {
   "cell_type": "code",
   "execution_count": 23,
   "metadata": {},
   "outputs": [
    {
     "data": {
      "image/png": "[encoded data removed]",
      "text/plain": [
       "<Figure size 432x288 with 1 Axes>"
      ]
     },
     "metadata": {
      "needs_background": "light"
     },
     "output_type": "display_data"
    },
    {
     "data": {
      "image/png": "[encoded data removed]",
      "text/plain": [
       "<Figure size 432x288 with 1 Axes>"
      ]
     },
     "metadata": {
      "needs_background": "light"
     },
     "output_type": "display_data"
    },
    {
     "data": {
      "image/png": "[encoded data removed]",
      "text/plain": [
       "<Figure size 432x288 with 1 Axes>"
      ]
     },
     "metadata": {
      "needs_background": "light"
     },
     "output_type": "display_data"
    },
    {
     "data": {
      "image/png": "[encoded data removed]",
      "text/plain": [
       "<Figure size 432x288 with 1 Axes>"
      ]
     },
     "metadata": {
      "needs_background": "light"
     },
     "output_type": "display_data"
    },
    {
     "data": {
      "image/png": "[encoded data removed]",
      "text/plain": [
       "<Figure size 432x288 with 1 Axes>"
      ]
     },
     "metadata": {
      "needs_background": "light"
     },
     "output_type": "display_data"
    }
   ],
   "source": [
    "# Boxplots (after treating for outliers) - Numerical Variables\n",
    "box_plot(new_num_data)"
   ]
  },
  {
   "cell_type": "markdown",
   "metadata": {},
   "source": [
    "Now we have a dataset that is tidy and where outliers were substituted by missing values. This substitution (rather than dropping observations) is important because we won't miss data on other variables where the outliers were not present. \n",
    "\n",
    "Now, both descriptive and inferential statistics can be performed on clean Numeric Variables."
   ]
  },
  {
   "cell_type": "code",
   "execution_count": 24,
   "metadata": {},
   "outputs": [
    {
     "name": "stdout",
     "output_type": "stream",
     "text": [
      "Checking for missing values in the Cardio Base Dataset - Numerical Variables\n",
      "------------------------------------------------------------\n",
      "age          4\n",
      "height    2976\n",
      "weight    3103\n",
      "ap_hi     2464\n",
      "ap_lo     1915\n",
      "dtype: int64\n",
      "------------------------------------------------------------\n"
     ]
    }
   ],
   "source": [
    "# Check for missing values (after treating for outliers) - Numeric Variables\n",
    "missing_values(new_num_data) # calls missing values function"
   ]
  },
  {
   "cell_type": "markdown",
   "metadata": {},
   "source": [
    "Note that these Missing Values are due to the outlier treatment and from the inconsistencies treatment. They would not affect our descriptive statistics because we could account for that.\n",
    "\n",
    "However, to simplify our analysis, let's drop the rows where any missing values are present."
   ]
  },
  {
   "cell_type": "code",
   "execution_count": 25,
   "metadata": {},
   "outputs": [],
   "source": [
    "# Drop rows where at least one Missing values (NaN) in each row is present\n",
    "data.dropna(inplace = True)\n",
    "\n",
    "# Save New Numeric Dataset without outliers and without missing values\n",
    "new_num_data_no_missing = save_num_data(data, num_cols) # calls save_num_data function and stores output\n",
    "\n",
    "# Save New Categorical Dataset without outliers and without missing values\n",
    "new_cat_data_no_missing = save_cat_data(data, cat_cols) # calls save_num_data function and stores output"
   ]
  },
  {
   "cell_type": "code",
   "execution_count": 26,
   "metadata": {},
   "outputs": [
    {
     "name": "stdout",
     "output_type": "stream",
     "text": [
      "Checking for missing values in the Cardio Base Dataset - Numerical Variables\n",
      "------------------------------------------------------------\n",
      "age       0\n",
      "height    0\n",
      "weight    0\n",
      "ap_hi     0\n",
      "ap_lo     0\n",
      "dtype: int64\n",
      "------------------------------------------------------------\n"
     ]
    }
   ],
   "source": [
    "# Check for missing values (after treating and dropping outliers) - Numeric Variables\n",
    "missing_values(new_num_data_no_missing) # calls missing values function"
   ]
  },
  {
   "cell_type": "markdown",
   "metadata": {},
   "source": [
    "### Categorical Variables\n",
    "\n",
    "#### Box Plots"
   ]
  },
  {
   "cell_type": "code",
   "execution_count": 27,
   "metadata": {},
   "outputs": [
    {
     "data": {
      "image/png": "[encoded data removed]",
      "text/plain": [
       "<Figure size 360x288 with 1 Axes>"
      ]
     },
     "metadata": {
      "needs_background": "light"
     },
     "output_type": "display_data"
    },
    {
     "data": {
      "image/png": "[encoded data removed]",
      "text/plain": [
       "<Figure size 432x288 with 1 Axes>"
      ]
     },
     "metadata": {
      "needs_background": "light"
     },
     "output_type": "display_data"
    },
    {
     "data": {
      "image/png": "[encoded data removed]",
      "text/plain": [
       "<Figure size 432x288 with 1 Axes>"
      ]
     },
     "metadata": {
      "needs_background": "light"
     },
     "output_type": "display_data"
    }
   ],
   "source": [
    "# Bar Plots for the Relevant Categorical Variables\n",
    "bar_plot_cat(new_cat_data_no_missing)"
   ]
  },
  {
   "cell_type": "markdown",
   "metadata": {},
   "source": [
    "Categorical variables look okay. No need for any treatment."
   ]
  },
  {
   "cell_type": "code",
   "execution_count": 28,
   "metadata": {},
   "outputs": [
    {
     "data": {
      "text/html": [
       "<div>\n",
       "<style scoped>\n",
       "    .dataframe tbody tr th:only-of-type {\n",
       "        vertical-align: middle;\n",
       "    }\n",
       "\n",
       "    .dataframe tbody tr th {\n",
       "        vertical-align: top;\n",
       "    }\n",
       "\n",
       "    .dataframe thead th {\n",
       "        text-align: right;\n",
       "    }\n",
       "</style>\n",
       "<table border=\"1\" class=\"dataframe\">\n",
       "  <thead>\n",
       "    <tr style=\"text-align: right;\">\n",
       "      <th></th>\n",
       "      <th>count</th>\n",
       "      <th>mean</th>\n",
       "      <th>std</th>\n",
       "      <th>min</th>\n",
       "      <th>25%</th>\n",
       "      <th>50%</th>\n",
       "      <th>75%</th>\n",
       "      <th>max</th>\n",
       "    </tr>\n",
       "  </thead>\n",
       "  <tbody>\n",
       "    <tr>\n",
       "      <th>id</th>\n",
       "      <td>58057.0</td>\n",
       "      <td>49890.705841</td>\n",
       "      <td>27412.239024</td>\n",
       "      <td>2474.0</td>\n",
       "      <td>26112.0</td>\n",
       "      <td>49896.0</td>\n",
       "      <td>73531.0</td>\n",
       "      <td>97472.0</td>\n",
       "    </tr>\n",
       "    <tr>\n",
       "      <th>age</th>\n",
       "      <td>58057.0</td>\n",
       "      <td>52.862601</td>\n",
       "      <td>6.739665</td>\n",
       "      <td>39.0</td>\n",
       "      <td>48.0</td>\n",
       "      <td>53.0</td>\n",
       "      <td>58.0</td>\n",
       "      <td>64.0</td>\n",
       "    </tr>\n",
       "    <tr>\n",
       "      <th>gender</th>\n",
       "      <td>58057.0</td>\n",
       "      <td>1.347211</td>\n",
       "      <td>0.476087</td>\n",
       "      <td>1.0</td>\n",
       "      <td>1.0</td>\n",
       "      <td>1.0</td>\n",
       "      <td>2.0</td>\n",
       "      <td>2.0</td>\n",
       "    </tr>\n",
       "    <tr>\n",
       "      <th>height</th>\n",
       "      <td>58057.0</td>\n",
       "      <td>164.534768</td>\n",
       "      <td>6.846468</td>\n",
       "      <td>150.0</td>\n",
       "      <td>160.0</td>\n",
       "      <td>165.0</td>\n",
       "      <td>169.0</td>\n",
       "      <td>180.0</td>\n",
       "    </tr>\n",
       "    <tr>\n",
       "      <th>weight</th>\n",
       "      <td>58057.0</td>\n",
       "      <td>73.505091</td>\n",
       "      <td>11.844130</td>\n",
       "      <td>51.0</td>\n",
       "      <td>65.0</td>\n",
       "      <td>72.0</td>\n",
       "      <td>81.0</td>\n",
       "      <td>108.0</td>\n",
       "    </tr>\n",
       "    <tr>\n",
       "      <th>ap_hi</th>\n",
       "      <td>58057.0</td>\n",
       "      <td>126.123895</td>\n",
       "      <td>14.301570</td>\n",
       "      <td>100.0</td>\n",
       "      <td>120.0</td>\n",
       "      <td>120.0</td>\n",
       "      <td>140.0</td>\n",
       "      <td>170.0</td>\n",
       "    </tr>\n",
       "    <tr>\n",
       "      <th>ap_lo</th>\n",
       "      <td>58057.0</td>\n",
       "      <td>81.137365</td>\n",
       "      <td>8.327282</td>\n",
       "      <td>60.0</td>\n",
       "      <td>80.0</td>\n",
       "      <td>80.0</td>\n",
       "      <td>90.0</td>\n",
       "      <td>100.0</td>\n",
       "    </tr>\n",
       "    <tr>\n",
       "      <th>cholesterol</th>\n",
       "      <td>58057.0</td>\n",
       "      <td>1.354118</td>\n",
       "      <td>0.672122</td>\n",
       "      <td>1.0</td>\n",
       "      <td>1.0</td>\n",
       "      <td>1.0</td>\n",
       "      <td>1.0</td>\n",
       "      <td>3.0</td>\n",
       "    </tr>\n",
       "    <tr>\n",
       "      <th>smoke</th>\n",
       "      <td>58057.0</td>\n",
       "      <td>0.086088</td>\n",
       "      <td>0.280496</td>\n",
       "      <td>0.0</td>\n",
       "      <td>0.0</td>\n",
       "      <td>0.0</td>\n",
       "      <td>0.0</td>\n",
       "      <td>1.0</td>\n",
       "    </tr>\n",
       "  </tbody>\n",
       "</table>\n",
       "</div>"
      ],
      "text/plain": [
       "               count          mean           std     min      25%      50%  \\\n",
       "id           58057.0  49890.705841  27412.239024  2474.0  26112.0  49896.0   \n",
       "age          58057.0     52.862601      6.739665    39.0     48.0     53.0   \n",
       "gender       58057.0      1.347211      0.476087     1.0      1.0      1.0   \n",
       "height       58057.0    164.534768      6.846468   150.0    160.0    165.0   \n",
       "weight       58057.0     73.505091     11.844130    51.0     65.0     72.0   \n",
       "ap_hi        58057.0    126.123895     14.301570   100.0    120.0    120.0   \n",
       "ap_lo        58057.0     81.137365      8.327282    60.0     80.0     80.0   \n",
       "cholesterol  58057.0      1.354118      0.672122     1.0      1.0      1.0   \n",
       "smoke        58057.0      0.086088      0.280496     0.0      0.0      0.0   \n",
       "\n",
       "                 75%      max  \n",
       "id           73531.0  97472.0  \n",
       "age             58.0     64.0  \n",
       "gender           2.0      2.0  \n",
       "height         169.0    180.0  \n",
       "weight          81.0    108.0  \n",
       "ap_hi          140.0    170.0  \n",
       "ap_lo           90.0    100.0  \n",
       "cholesterol      1.0      3.0  \n",
       "smoke            0.0      1.0  "
      ]
     },
     "execution_count": 28,
     "metadata": {},
     "output_type": "execute_result"
    }
   ],
   "source": [
    "# Quick Overview of the New Dataset\n",
    "data.describe().T"
   ]
  },
  {
   "cell_type": "markdown",
   "metadata": {},
   "source": [
    "### Correlation Matrix Heatmap"
   ]
  },
  {
   "cell_type": "code",
   "execution_count": 29,
   "metadata": {},
   "outputs": [
    {
     "data": {
      "image/png": "[encoded data removed]",
      "text/plain": [
       "<Figure size 720x576 with 2 Axes>"
      ]
     },
     "metadata": {
      "needs_background": "light"
     },
     "output_type": "display_data"
    }
   ],
   "source": [
    "# Heatmap = Correlation among features\n",
    "corr = data.corr()\n",
    "cmap = sns.diverging_palette(220, 10, as_cmap=True)\n",
    "\n",
    "## Mask for the upper triangle\n",
    "mask = np.zeros_like(corr, dtype=np.bool)\n",
    "mask[np.triu_indices_from(mask)] = True\n",
    "\n",
    "f, ax = plt.subplots(figsize=(10, 8)) ## set figure\n",
    "sns.heatmap(corr, mask = mask, cmap = cmap, vmax = .3, center = 0, annot = True,\n",
    "            square = True, linewidths = .5, cbar_kws = {\"shrink\": .5});"
   ]
  },
  {
   "cell_type": "markdown",
   "metadata": {},
   "source": [
    "## Questions"
   ]
  },
  {
   "cell_type": "markdown",
   "metadata": {},
   "source": [
    "### Question 01\n",
    "How much heavier is the age group with the highest average weight than the age group with the lowest average weight?\n",
    "\n",
    "**ANSWER: 2.63 kg**\n",
    "\n",
    "To answer this question, we need to group ages into different Age Groups.\n",
    "\n",
    "My choice for age groups was based on a dataset from the USA, extracted from the WHO (World Health Organization) at https://apps.who.int/healthinfo/systems/surveydata/index.php/catalog/148/data-dictionary/F1?file_name=USA"
   ]
  },
  {
   "cell_type": "code",
   "execution_count": 30,
   "metadata": {},
   "outputs": [
    {
     "data": {
      "text/html": [
       "<div>\n",
       "<style scoped>\n",
       "    .dataframe tbody tr th:only-of-type {\n",
       "        vertical-align: middle;\n",
       "    }\n",
       "\n",
       "    .dataframe tbody tr th {\n",
       "        vertical-align: top;\n",
       "    }\n",
       "\n",
       "    .dataframe thead th {\n",
       "        text-align: right;\n",
       "    }\n",
       "</style>\n",
       "<table border=\"1\" class=\"dataframe\">\n",
       "  <thead>\n",
       "    <tr style=\"text-align: right;\">\n",
       "      <th></th>\n",
       "      <th>age</th>\n",
       "      <th>age_group</th>\n",
       "    </tr>\n",
       "  </thead>\n",
       "  <tbody>\n",
       "    <tr>\n",
       "      <th>39499</th>\n",
       "      <td>39.0</td>\n",
       "      <td>30 - 39</td>\n",
       "    </tr>\n",
       "    <tr>\n",
       "      <th>66209</th>\n",
       "      <td>57.0</td>\n",
       "      <td>50 - 59</td>\n",
       "    </tr>\n",
       "    <tr>\n",
       "      <th>17660</th>\n",
       "      <td>59.0</td>\n",
       "      <td>50 - 59</td>\n",
       "    </tr>\n",
       "    <tr>\n",
       "      <th>18466</th>\n",
       "      <td>56.0</td>\n",
       "      <td>50 - 59</td>\n",
       "    </tr>\n",
       "    <tr>\n",
       "      <th>61890</th>\n",
       "      <td>60.0</td>\n",
       "      <td>60 - 69</td>\n",
       "    </tr>\n",
       "  </tbody>\n",
       "</table>\n",
       "</div>"
      ],
      "text/plain": [
       "        age age_group\n",
       "39499  39.0   30 - 39\n",
       "66209  57.0   50 - 59\n",
       "17660  59.0   50 - 59\n",
       "18466  56.0   50 - 59\n",
       "61890  60.0   60 - 69"
      ]
     },
     "execution_count": 30,
     "metadata": {},
     "output_type": "execute_result"
    }
   ],
   "source": [
    "# Generating Age Groups\n",
    "\n",
    "# Quick look at the Age Distribution\n",
    "data[['age']].describe().T\n",
    "\n",
    "# Create ranges for categories\n",
    "label_ranges_01 = [30, 39, 49, 59, 69]\n",
    "label_names_01  = ['30 - 39', '40 - 49', '50 - 59', '60 - 69']\n",
    "\n",
    "# Create new column with collapsed categories\n",
    "data['age_group'] = pd.cut(data['age'], bins = label_ranges_01, labels = label_names_01)\n",
    "\n",
    "# Check if age groups makes sense\n",
    "data[['age', 'age_group']].sample(5)"
   ]
  },
  {
   "cell_type": "code",
   "execution_count": 31,
   "metadata": {},
   "outputs": [
    {
     "name": "stdout",
     "output_type": "stream",
     "text": [
      "  age_group     weight\n",
      "0   30 - 39  71.656783\n",
      "1   40 - 49  72.698584\n",
      "2   50 - 59  73.750435\n",
      "3   60 - 69  74.286801\n"
     ]
    }
   ],
   "source": [
    "# Calculate Average per Age Group (in Ascending Order by Weight) \n",
    "stats_dict = {'weight' : 'mean'}\n",
    "q_01_data = data.groupby('age_group').agg(stats_dict).reset_index().sort_values(by = 'weight', ascending = True)\n",
    "print(q_01_data)"
   ]
  },
  {
   "cell_type": "code",
   "execution_count": 32,
   "metadata": {},
   "outputs": [
    {
     "name": "stdout",
     "output_type": "stream",
     "text": [
      "The age group with the highest average weight is 2.63 Kgs heavier than the age group with the lowest weight\n"
     ]
    }
   ],
   "source": [
    "# Question 01 - Answer\n",
    "answer_01 = (q_01_data['weight'].max() - q_01_data['weight'].min())\n",
    "print(\"The age group with the highest average weight is \" + \"{:.2f}\".format(answer_01) + \" Kgs heavier than the age group with the lowest weight\")"
   ]
  },
  {
   "cell_type": "markdown",
   "metadata": {},
   "source": [
    "### Question 02\n",
    "Do people over 50 have higher cholesterol levels than the rest? If so, what is the percentage of that difference?\n",
    "\n",
    "**ANSWER: Yes, people over 50 have 17.5% higher cholesterol levels than the rest**"
   ]
  },
  {
   "cell_type": "code",
   "execution_count": 33,
   "metadata": {},
   "outputs": [
    {
     "data": {
      "text/html": [
       "<div>\n",
       "<style scoped>\n",
       "    .dataframe tbody tr th:only-of-type {\n",
       "        vertical-align: middle;\n",
       "    }\n",
       "\n",
       "    .dataframe tbody tr th {\n",
       "        vertical-align: top;\n",
       "    }\n",
       "\n",
       "    .dataframe thead th {\n",
       "        text-align: right;\n",
       "    }\n",
       "</style>\n",
       "<table border=\"1\" class=\"dataframe\">\n",
       "  <thead>\n",
       "    <tr style=\"text-align: right;\">\n",
       "      <th></th>\n",
       "      <th>age</th>\n",
       "      <th>partition_50</th>\n",
       "    </tr>\n",
       "  </thead>\n",
       "  <tbody>\n",
       "    <tr>\n",
       "      <th>32663</th>\n",
       "      <td>52.0</td>\n",
       "      <td>Age &gt; 50</td>\n",
       "    </tr>\n",
       "    <tr>\n",
       "      <th>23114</th>\n",
       "      <td>60.0</td>\n",
       "      <td>Age &gt; 50</td>\n",
       "    </tr>\n",
       "    <tr>\n",
       "      <th>10245</th>\n",
       "      <td>44.0</td>\n",
       "      <td>Age &lt;= 50</td>\n",
       "    </tr>\n",
       "    <tr>\n",
       "      <th>44654</th>\n",
       "      <td>52.0</td>\n",
       "      <td>Age &gt; 50</td>\n",
       "    </tr>\n",
       "    <tr>\n",
       "      <th>49746</th>\n",
       "      <td>45.0</td>\n",
       "      <td>Age &lt;= 50</td>\n",
       "    </tr>\n",
       "  </tbody>\n",
       "</table>\n",
       "</div>"
      ],
      "text/plain": [
       "        age partition_50\n",
       "32663  52.0     Age > 50\n",
       "23114  60.0     Age > 50\n",
       "10245  44.0    Age <= 50\n",
       "44654  52.0     Age > 50\n",
       "49746  45.0    Age <= 50"
      ]
     },
     "execution_count": 33,
     "metadata": {},
     "output_type": "execute_result"
    }
   ],
   "source": [
    "# Quick look at the Cholesterol Distribution\n",
    "data[['cholesterol']].describe().T\n",
    "\n",
    "# Create ranges for categories\n",
    "label_ranges_02 = [0, 50, 69]\n",
    "label_names_02  = ['Age <= 50', 'Age > 50']\n",
    "\n",
    "# Create new column with collapsed categories\n",
    "data['partition_50'] = pd.cut(data['age'], bins = label_ranges_02, labels = label_names_02)\n",
    "\n",
    "# Check if age groups makes sense\n",
    "data[['age', 'partition_50']].sample(5)"
   ]
  },
  {
   "cell_type": "code",
   "execution_count": 34,
   "metadata": {},
   "outputs": [
    {
     "data": {
      "text/plain": [
       "[Text(0, 0, 'Age <= 50'), Text(1, 0, 'Age > 50')]"
      ]
     },
     "execution_count": 34,
     "metadata": {},
     "output_type": "execute_result"
    },
    {
     "data": {
      "image/png": "[encoded data removed]",
      "text/plain": [
       "<Figure size 432x288 with 1 Axes>"
      ]
     },
     "metadata": {
      "needs_background": "light"
     },
     "output_type": "display_data"
    }
   ],
   "source": [
    "# Question 02 - Answer Part 1 of 2\n",
    "partition_50 = data['partition_50']\n",
    "list_unique_items = partition_50.unique()\n",
    "\n",
    "fig, ax = plt.subplots()\n",
    "# Loop over the different categories of partition_50\n",
    "for i in list_unique_items:\n",
    "  # Extract the rows for a unique item of the list\n",
    "  new_df = data[ data['partition_50'] == i ]\n",
    "  # Add a bar for cholesterol mean with std y error bar\n",
    "  ax.bar(i, new_df[\"cholesterol\"].mean(), yerr = new_df[\"cholesterol\"].std())\n",
    "\n",
    "ax.set_ylabel(\"Cholesterol Levels\")\n",
    "ax.set_xticklabels(list_unique_items)\n"
   ]
  },
  {
   "cell_type": "code",
   "execution_count": 35,
   "metadata": {},
   "outputs": [
    {
     "name": "stdout",
     "output_type": "stream",
     "text": [
      "  partition_50  cholesterol\n",
      "1     Age > 50     1.415458\n",
      "0    Age <= 50     1.240285\n"
     ]
    }
   ],
   "source": [
    "# Calculate the % difference between Ages in the given partition\n",
    "stats_dict = {'cholesterol' : 'mean'}\n",
    "q_02_data = data.groupby('partition_50').agg(stats_dict).reset_index().sort_values(by = 'cholesterol', ascending = False)\n",
    "print(q_02_data)"
   ]
  },
  {
   "cell_type": "code",
   "execution_count": 36,
   "metadata": {},
   "outputs": [
    {
     "name": "stdout",
     "output_type": "stream",
     "text": [
      "Percentage difference on Cholesterol Leves between people over 50 and younger people: 17.5%\n"
     ]
    }
   ],
   "source": [
    "# Question 02 - Answer Part 2 of 2\n",
    "answer_02 = (q_02_data['cholesterol'].max() - q_02_data['cholesterol'].min())\n",
    "print(\"Percentage difference on Cholesterol Leves between people over 50 and younger people: \" + \"{:.1%}\".format(answer_02))"
   ]
  },
  {
   "cell_type": "code",
   "execution_count": 37,
   "metadata": {},
   "outputs": [],
   "source": [
    "# Drop partition_50\n",
    "data = data.drop(columns = ['partition_50', 'age_group'])"
   ]
  },
  {
   "cell_type": "markdown",
   "metadata": {},
   "source": [
    "### Question 03\n",
    "Are men more likely to be a smoker than women? If so, how many times more? The data contains information to identify gender IDs.\n",
    "\n",
    "[Assumption] Suppose that Gender = 1 means _Female_ and Smoke = 0 means _Do not Smoke_\n",
    "\n",
    "* We start by looking at a Contingency Table from the sample (Gender vs. Smoke). To answer a \"likelihood\" question (_Are men more likely to be a smoker than women?_) we first need to be sure (at a certain confidence level) that both categorical variables have any degree of dependency. Thus, we want to reject the Null Hypothesis that both categorical variables are independent. For that, we will use a **Chi-Square Test for Independence**, \n",
    "\n",
    "**ANSWER: j**"
   ]
  },
  {
   "cell_type": "code",
   "execution_count": 38,
   "metadata": {},
   "outputs": [
    {
     "name": "stdout",
     "output_type": "stream",
     "text": [
      "Contingency Table for Gender and Smoking Behavior, normalized by column:\n"
     ]
    },
    {
     "data": {
      "text/html": [
       "<div>\n",
       "<style scoped>\n",
       "    .dataframe tbody tr th:only-of-type {\n",
       "        vertical-align: middle;\n",
       "    }\n",
       "\n",
       "    .dataframe tbody tr th {\n",
       "        vertical-align: top;\n",
       "    }\n",
       "\n",
       "    .dataframe thead th {\n",
       "        text-align: right;\n",
       "    }\n",
       "</style>\n",
       "<table border=\"1\" class=\"dataframe\">\n",
       "  <thead>\n",
       "    <tr style=\"text-align: right;\">\n",
       "      <th>Smoke</th>\n",
       "      <th>No</th>\n",
       "      <th>Yes</th>\n",
       "    </tr>\n",
       "    <tr>\n",
       "      <th>Gender</th>\n",
       "      <th></th>\n",
       "      <th></th>\n",
       "    </tr>\n",
       "  </thead>\n",
       "  <tbody>\n",
       "    <tr>\n",
       "      <th>Female</th>\n",
       "      <td>70.19</td>\n",
       "      <td>13.17</td>\n",
       "    </tr>\n",
       "    <tr>\n",
       "      <th>Male</th>\n",
       "      <td>29.81</td>\n",
       "      <td>86.83</td>\n",
       "    </tr>\n",
       "  </tbody>\n",
       "</table>\n",
       "</div>"
      ],
      "text/plain": [
       "Smoke      No    Yes\n",
       "Gender              \n",
       "Female  70.19  13.17\n",
       "Male    29.81  86.83"
      ]
     },
     "execution_count": 38,
     "metadata": {},
     "output_type": "execute_result"
    }
   ],
   "source": [
    "# First, let's check how the data is distributed for both gender and smoking behavior via Contingency Table\n",
    "q_03_data = pd.DataFrame({\"Gender\": data.gender, \"Smoke\": data.smoke}, dtype = \"category\")\n",
    "q_03_data.Gender = q_03_data.Gender.cat.rename_categories({1: \"Female\", 2: \"Male\"})\n",
    "q_03_data.Smoke  = q_03_data.Smoke.cat.rename_categories({0: \"No\", 1: \"Yes\"})\n",
    "q_03_data_contingency_table = pd.crosstab(q_03_data.Gender, q_03_data.Smoke, normalize = 'columns').round(4)*100\n",
    "\n",
    "print(\"Contingency Table for Gender and Smoking Behavior, normalized by column:\")\n",
    "q_03_data_contingency_table"
   ]
  },
  {
   "cell_type": "markdown",
   "metadata": {},
   "source": [
    "Note that from a sample of 58057 observations and from those who smoke, a larger percentage of males were found to smoke than females.\n",
    "\n",
    "However, we need to perform a robust statistical hypothesis test in order to conclude whether the evidence provided by this sample constitute relevant evidence for the true relationship between smoke and gender.  "
   ]
  },
  {
   "cell_type": "code",
   "execution_count": 39,
   "metadata": {},
   "outputs": [
    {
     "data": {
      "text/plain": [
       "(64.55219103549416,\n",
       " 9.400894177442534e-16,\n",
       " 1,\n",
       " array([[41.68, 41.68],\n",
       "        [58.32, 58.32]]))"
      ]
     },
     "execution_count": 39,
     "metadata": {},
     "output_type": "execute_result"
    }
   ],
   "source": [
    "# Now, let's check whether there is evidence of a relationship between smoking and gender\n",
    "## Chi-Square Test for Independence\n",
    "##      H_0: There is no significant relationship between gender and smoke. (They are independent.)\n",
    "##      H_A: There is significant relationship between gender and smoke.    (They are not independent.)\n",
    "## X² = sum of [(observed-expected)² / expected], where 'observed' comes from the Contingency Table and 'expected'comes from the expected numbers when the null hypothesis is true.\n",
    "\n",
    "stats.chi2_contingency(q_03_data_contingency_table)"
   ]
  },
  {
   "cell_type": "markdown",
   "metadata": {},
   "source": [
    "WIth this Hypothesis Test, we reject the Null Hypothesis that Gender and Smoke are independent (p-value < 0.05), which menas that we have enough evidence that there is an association between gender and smoking behavior.\n",
    "\n",
    "Now, we can proceed to check whether men are more likely to smoke than women. \n",
    "\n",
    "We want to use a Binary Logistic Regression Model to predict the likelihood of a smoking person to be a man and compare it to the likelihood of a smoking person to be a women."
   ]
  },
  {
   "cell_type": "code",
   "execution_count": 40,
   "metadata": {},
   "outputs": [
    {
     "data": {
      "text/plain": [
       "<AxesSubplot:xlabel='Smoke', ylabel='count'>"
      ]
     },
     "execution_count": 40,
     "metadata": {},
     "output_type": "execute_result"
    },
    {
     "data": {
      "image/png": "[encoded data removed]",
      "text/plain": [
       "<Figure size 432x288 with 1 Axes>"
      ]
     },
     "metadata": {
      "needs_background": "light"
     },
     "output_type": "display_data"
    }
   ],
   "source": [
    "# Let's visualize Gender vs. Smoking Behavior\n",
    "sns.countplot(data = q_03_data, x = 'Smoke', hue  = 'Gender')\n"
   ]
  },
  {
   "cell_type": "code",
   "execution_count": 41,
   "metadata": {},
   "outputs": [],
   "source": [
    "# Let's build a Binary Logistic Regression Model (i.e. a Binary Classification Model)\n",
    "\n",
    "# Generate Dummys for Gender\n",
    "# gender_dummy = pd.get_dummies(data.gender) \n",
    "\n",
    "## split dataset in features and target variable\n",
    "feature_cols = ['gender']\n",
    "X = data[feature_cols] # Features\n",
    "y = data.smoke # Target variable\n",
    "\n",
    "# split X and y into training and testing sets\n",
    "from sklearn.model_selection import train_test_split\n",
    "X_train, X_test, y_train, y_test = train_test_split(X, y, test_size = 0.25, random_state = 0)\n",
    "\n",
    "# import the class\n",
    "from sklearn.linear_model import LogisticRegression\n",
    "\n",
    "# instantiate the model (using the default parameters)\n",
    "logreg = LogisticRegression()\n",
    "\n",
    "# fit the model with data\n",
    "logreg.fit(X_train, y_train)\n",
    "\n",
    "# Perform prediction on the test set\n",
    "y_pred = logreg.predict(X_test)"
   ]
  },
  {
   "cell_type": "code",
   "execution_count": 42,
   "metadata": {},
   "outputs": [
    {
     "name": "stdout",
     "output_type": "stream",
     "text": [
      "Confusion Matrix:\n",
      "Diagonal elements (accurate predictions). Non-diagonal elements (inaccurate predictions).\n"
     ]
    },
    {
     "data": {
      "text/plain": [
       "array([[13205,     0],\n",
       "       [ 1310,     0]], dtype=int64)"
      ]
     },
     "execution_count": 42,
     "metadata": {},
     "output_type": "execute_result"
    }
   ],
   "source": [
    "# Model Evaluation using Confusion Matrix\n",
    "## import the metrics class\n",
    "from sklearn import metrics\n",
    "cnf_matrix = metrics.confusion_matrix(y_test, y_pred)\n",
    "print(\"Confusion Matrix:\")\n",
    "print(\"Diagonal elements (accurate predictions). Non-diagonal elements (inaccurate predictions).\")\n",
    "cnf_matrix"
   ]
  },
  {
   "cell_type": "code",
   "execution_count": 43,
   "metadata": {},
   "outputs": [
    {
     "data": {
      "text/plain": [
       "Text(0.5, 257.44, 'Predicted label')"
      ]
     },
     "execution_count": 43,
     "metadata": {},
     "output_type": "execute_result"
    },
    {
     "data": {
      "image/png": "[encoded data removed]",
      "text/plain": [
       "<Figure size 432x288 with 2 Axes>"
      ]
     },
     "metadata": {
      "needs_background": "light"
     },
     "output_type": "display_data"
    }
   ],
   "source": [
    "# Visualizing Confusion Matrix using Heatmap\n",
    "## import required modules\n",
    "import numpy as np\n",
    "import matplotlib.pyplot as plt\n",
    "import seaborn as sns\n",
    "\n",
    "class_names = [0, 1] # name of classes\n",
    "fig, ax = plt.subplots()\n",
    "tick_marks = np.arange(len(class_names))\n",
    "plt.xticks(tick_marks, class_names)\n",
    "plt.yticks(tick_marks, class_names)\n",
    "\n",
    "## create heatmap\n",
    "sns.heatmap(pd.DataFrame(cnf_matrix), annot = True, cmap = \"YlGnBu\" ,fmt = 'g')\n",
    "ax.xaxis.set_label_position(\"top\")\n",
    "plt.tight_layout()\n",
    "plt.title('Confusion matrix', y = 1.1)\n",
    "plt.ylabel('Actual label')\n",
    "plt.xlabel('Predicted label')"
   ]
  },
  {
   "cell_type": "code",
   "execution_count": 44,
   "metadata": {},
   "outputs": [
    {
     "name": "stdout",
     "output_type": "stream",
     "text": [
      "Accuracy: 0.9097485359972443\n",
      "Precision: 0.0\n",
      "Recall: 0.0\n"
     ]
    }
   ],
   "source": [
    "# Confusion Matrix Evaluation Metrics\n",
    "\n",
    "print(\"Accuracy:\",metrics.accuracy_score(y_test, y_pred))\n",
    "print(\"Precision:\",metrics.precision_score(y_test, y_pred))\n",
    "print(\"Recall:\",metrics.recall_score(y_test, y_pred))"
   ]
  },
  {
   "cell_type": "markdown",
   "metadata": {},
   "source": [
    "### Question 04\n",
    "How tall are the tallest 1% of the people?\n",
    "\n",
    "For this question, we need to set a measure of \"how tall is X\". We could use the mean, but after looking at the data, we noticed that the tallest 1% all have will use summary statistics to answer this question.\n",
    "\n",
    "**ANSWER: 180 cm**"
   ]
  },
  {
   "cell_type": "code",
   "execution_count": 45,
   "metadata": {},
   "outputs": [
    {
     "name": "stdout",
     "output_type": "stream",
     "text": [
      "The tallest person has: 180.0 cm.\n",
      "The smallest height for the top 1% of tallest people is: 180.0\n",
      "There are 751 people who 180 cm tall or taller.\n"
     ]
    }
   ],
   "source": [
    "# Calculate the mean of the tallest 1%\n",
    "\n",
    "## Find threshold for the tallest 1%, i.e., find the 99th percentile\n",
    "height_perc_99 = data.height.quantile(0.99)\n",
    "print(\"The tallest person has: \" + str(data.height.max()) + \" cm.\")\n",
    "print(\"The smallest height for the top 1% of tallest people is: \" + str(height_perc_99))\n",
    "print(\"There are \" + str(data.height[data.height >= height_perc_99].count()) + \" people who 180 cm tall or taller.\")"
   ]
  },
  {
   "cell_type": "markdown",
   "metadata": {},
   "source": [
    "### Question 05\n",
    "Which two features have the highest spearman rank correlation?\n",
    "\n",
    "**Answer: (ap_hi, ap_lo) = 0.696626** \n"
   ]
  },
  {
   "cell_type": "code",
   "execution_count": 46,
   "metadata": {},
   "outputs": [
    {
     "name": "stdout",
     "output_type": "stream",
     "text": [
      "Series([], dtype: float64)\n"
     ]
    }
   ],
   "source": [
    "# from scipy.stats import spearmanr\n",
    "\n",
    "#calculate Spearman Rank correlation and corresponding p-value\n",
    "my_r = data.corr(method = \"spearman\").abs().unstack().sort_values(ascending = False).drop_duplicates(keep = False)\n",
    "print(my_r)\n",
    "\n"
   ]
  },
  {
   "cell_type": "code",
   "execution_count": 47,
   "metadata": {},
   "outputs": [
    {
     "name": "stdout",
     "output_type": "stream",
     "text": [
      "Top 2 Absolute Correlations\n",
      "ap_hi  ap_lo    0.696626\n",
      "dtype: float64\n"
     ]
    }
   ],
   "source": [
    "# data.corr(method = \"spearman\").unstack().sort_values().drop_duplicates()\n",
    "\n",
    "print(\"Top 2 Absolute Correlations\")\n",
    "print(get_top_abs_correlations(data, 1))"
   ]
  },
  {
   "cell_type": "markdown",
   "metadata": {},
   "source": [
    "### Question 06\n",
    "What percentage of people are more than 2 standard deviations far from the average height?\n",
    "\n",
    "Note: I am going to get how many people are 2 standard deviations **_away_** from the mean. \n",
    "\n",
    "**Answer: 3.31%** "
   ]
  },
  {
   "cell_type": "code",
   "execution_count": 48,
   "metadata": {},
   "outputs": [
    {
     "name": "stdout",
     "output_type": "stream",
     "text": [
      "3.31% of people's heights are 2 std. dev. away from their mean height.\n"
     ]
    }
   ],
   "source": [
    "# Get Summary Statistics for Height within 2 standard deviations \n",
    "data.height.describe()\n",
    "\n",
    "n_counts    = data.height.describe()[0]\n",
    "height_mean = data.height.describe()[1]\n",
    "height_std  = data.height.describe()[2]\n",
    "lower_bound = height_mean - 2 * height_std\n",
    "upper_bound = height_mean + 2 * height_std\n",
    "answer_06 = data['height'][ (data['height'] <= lower_bound) | (data['height'] >= upper_bound)].count()/n_counts\n",
    "\n",
    "print(\"{:.2%}\".format(answer_06) + \" of people's heights are 2 std. dev. away from their mean height.\")\n",
    "\n"
   ]
  },
  {
   "cell_type": "markdown",
   "metadata": {},
   "source": [
    "### Question 07\n",
    "What percentage of the population over 50 years old consume alcohol? Also use the cardio_alco.csv and merge the datasets on ID. Ignore those persons, where we have no alcohol consumption information.\n",
    "\n",
    "**Answer: 4.75%** "
   ]
  },
  {
   "cell_type": "code",
   "execution_count": 49,
   "metadata": {},
   "outputs": [
    {
     "name": "stdout",
     "output_type": "stream",
     "text": [
      "   id  alco\n",
      "0  44     0\n",
      "1  45     0\n",
      "2  46     0\n",
      "3  47     0\n",
      "4  49     0\n",
      "       id   age  gender  height  weight  ap_hi  ap_lo  cholesterol  smoke  \\\n",
      "0  2474.0  39.0       1   168.0    60.0  120.0   80.0            1      0   \n",
      "1  2477.0  48.0       2   178.0    70.0  120.0   80.0            1      0   \n",
      "2  2478.0  59.0       1   164.0    66.0  160.0   90.0            2      0   \n",
      "3  2480.0  57.0       1   158.0    68.0  160.0  100.0            2      0   \n",
      "4  2482.0  54.0       2   173.0    80.0  130.0   80.0            1      0   \n",
      "\n",
      "   alco  \n",
      "0     0  \n",
      "1     0  \n",
      "2     0  \n",
      "3     0  \n",
      "4     0  \n"
     ]
    }
   ],
   "source": [
    "# Check Alcohol Behavior Dataset\n",
    "print(data_alc.head())\n",
    "\n",
    "# Merge Cardio Base Data with Alcohol Behavior Dataset on the left (only merge those who are in both tables)\n",
    "data_merged = data.merge(data_alc, on = ['id'], how = 'inner')\n",
    "\n",
    "print (data_merged.head())"
   ]
  },
  {
   "cell_type": "code",
   "execution_count": 50,
   "metadata": {},
   "outputs": [
    {
     "data": {
      "text/html": [
       "<div>\n",
       "<style scoped>\n",
       "    .dataframe tbody tr th:only-of-type {\n",
       "        vertical-align: middle;\n",
       "    }\n",
       "\n",
       "    .dataframe tbody tr th {\n",
       "        vertical-align: top;\n",
       "    }\n",
       "\n",
       "    .dataframe thead th {\n",
       "        text-align: right;\n",
       "    }\n",
       "</style>\n",
       "<table border=\"1\" class=\"dataframe\">\n",
       "  <thead>\n",
       "    <tr style=\"text-align: right;\">\n",
       "      <th></th>\n",
       "      <th>age</th>\n",
       "      <th>partition_50_merged</th>\n",
       "    </tr>\n",
       "  </thead>\n",
       "  <tbody>\n",
       "    <tr>\n",
       "      <th>33394</th>\n",
       "      <td>53.0</td>\n",
       "      <td>Age &gt; 50</td>\n",
       "    </tr>\n",
       "    <tr>\n",
       "      <th>18739</th>\n",
       "      <td>61.0</td>\n",
       "      <td>Age &gt; 50</td>\n",
       "    </tr>\n",
       "    <tr>\n",
       "      <th>10029</th>\n",
       "      <td>59.0</td>\n",
       "      <td>Age &gt; 50</td>\n",
       "    </tr>\n",
       "    <tr>\n",
       "      <th>6037</th>\n",
       "      <td>60.0</td>\n",
       "      <td>Age &gt; 50</td>\n",
       "    </tr>\n",
       "    <tr>\n",
       "      <th>4556</th>\n",
       "      <td>53.0</td>\n",
       "      <td>Age &gt; 50</td>\n",
       "    </tr>\n",
       "  </tbody>\n",
       "</table>\n",
       "</div>"
      ],
      "text/plain": [
       "        age partition_50_merged\n",
       "33394  53.0            Age > 50\n",
       "18739  61.0            Age > 50\n",
       "10029  59.0            Age > 50\n",
       "6037   60.0            Age > 50\n",
       "4556   53.0            Age > 50"
      ]
     },
     "execution_count": 50,
     "metadata": {},
     "output_type": "execute_result"
    }
   ],
   "source": [
    "# First, let's label again those over 50\n",
    "## Create ranges for categories\n",
    "label_ranges_07 = [0, 50, 69]\n",
    "label_names_07  = ['Age <= 50', 'Age > 50']\n",
    "\n",
    "## Create new column with collapsed categories\n",
    "data_merged['partition_50_merged'] = pd.cut(data_merged['age'], bins = label_ranges_07, labels = label_names_07)\n",
    "\n",
    "## Check if age groups makes sense\n",
    "data_merged[['age', 'partition_50_merged']].sample(5)"
   ]
  },
  {
   "cell_type": "code",
   "execution_count": 51,
   "metadata": {},
   "outputs": [
    {
     "name": "stdout",
     "output_type": "stream",
     "text": [
      "4.75% of people over 50 consume alcohol.\n"
     ]
    }
   ],
   "source": [
    "# Calculate the Percentage of People Over 50 that consumes alcohol\n",
    "alc_over_50 = data_merged.alco[data_merged['partition_50_merged'] == 'Age > 50'].mean()\n",
    "\n",
    "print(\"{:.2%}\".format(alc_over_50) + \" of people over 50 consume alcohol.\")"
   ]
  },
  {
   "cell_type": "markdown",
   "metadata": {},
   "source": [
    "### Question 08\n",
    "Which of the following statements is true with 95% confidence?\n",
    "* a) Smokers have higher blood pressure than non-smokers: **YES**\n",
    "* b) Smokers have higher cholesterol level than non smokers: **NO**\n",
    "* c) Smokers weight less than non smokers: **NO**\n",
    "* d) Men have higher blood pressure than women: **YES**\n",
    "\n",
    "To answer these questions, we need to work under a certain framework: \n",
    "* We need to define what High Blood Pressure means. I followed the High Blood Pressure reference from the [American Heart Association](https://www.heart.org/en/health-topics/high-blood-pressure/understanding-blood-pressure-readings)\n",
    "* We need to choose a Hypothesis Tests, in this case, a test for differences between means or proportions among the cited groups.\n",
    "\n",
    "[Assumption] Suppose that Gender = 1 means _Female_ and Smoke = 0 means _Do not Smoke_\n",
    "\n",
    "[Considerations] Due to time constraints, I will skip the following:\n",
    "* Checking whether there are normality assumptions for the underlying distribution (depending on the Hypothesis Testing procedure).\n",
    "* Checking for equal/unequal variance when conducting t-tests."
   ]
  },
  {
   "cell_type": "code",
   "execution_count": 52,
   "metadata": {},
   "outputs": [
    {
     "data": {
      "text/html": [
       "<div>\n",
       "<style scoped>\n",
       "    .dataframe tbody tr th:only-of-type {\n",
       "        vertical-align: middle;\n",
       "    }\n",
       "\n",
       "    .dataframe tbody tr th {\n",
       "        vertical-align: top;\n",
       "    }\n",
       "\n",
       "    .dataframe thead th {\n",
       "        text-align: right;\n",
       "    }\n",
       "</style>\n",
       "<table border=\"1\" class=\"dataframe\">\n",
       "  <thead>\n",
       "    <tr style=\"text-align: right;\">\n",
       "      <th></th>\n",
       "      <th>ap_hi</th>\n",
       "      <th>ap_lo</th>\n",
       "      <th>high_bp</th>\n",
       "    </tr>\n",
       "  </thead>\n",
       "  <tbody>\n",
       "    <tr>\n",
       "      <th>53918</th>\n",
       "      <td>100.0</td>\n",
       "      <td>60.0</td>\n",
       "      <td>0</td>\n",
       "    </tr>\n",
       "    <tr>\n",
       "      <th>7483</th>\n",
       "      <td>110.0</td>\n",
       "      <td>70.0</td>\n",
       "      <td>0</td>\n",
       "    </tr>\n",
       "    <tr>\n",
       "      <th>57677</th>\n",
       "      <td>130.0</td>\n",
       "      <td>80.0</td>\n",
       "      <td>1</td>\n",
       "    </tr>\n",
       "    <tr>\n",
       "      <th>61113</th>\n",
       "      <td>110.0</td>\n",
       "      <td>80.0</td>\n",
       "      <td>0</td>\n",
       "    </tr>\n",
       "    <tr>\n",
       "      <th>25905</th>\n",
       "      <td>150.0</td>\n",
       "      <td>90.0</td>\n",
       "      <td>1</td>\n",
       "    </tr>\n",
       "  </tbody>\n",
       "</table>\n",
       "</div>"
      ],
      "text/plain": [
       "       ap_hi  ap_lo  high_bp\n",
       "53918  100.0   60.0        0\n",
       "7483   110.0   70.0        0\n",
       "57677  130.0   80.0        1\n",
       "61113  110.0   80.0        0\n",
       "25905  150.0   90.0        1"
      ]
     },
     "execution_count": 52,
     "metadata": {},
     "output_type": "execute_result"
    }
   ],
   "source": [
    "# Define High Blood Pressure\n",
    "def high_bp(ap_hi, ap_lo):\n",
    "    if ap_hi >= 130 or ap_lo > 80:\n",
    "        ap_hi = 1\n",
    "    else:\n",
    "        ap_hi = 0\n",
    "    return ap_hi\n",
    "\n",
    "data['high_bp'] = data.apply(lambda x: high_bp(x['ap_hi'], x['ap_lo']), axis = 1)\n",
    "\n",
    "data[['ap_hi', 'ap_lo','high_bp']].sample(5)"
   ]
  },
  {
   "cell_type": "code",
   "execution_count": 53,
   "metadata": {},
   "outputs": [
    {
     "data": {
      "text/plain": [
       "0    53059\n",
       "1     4998\n",
       "Name: smoke, dtype: int64"
      ]
     },
     "execution_count": 53,
     "metadata": {},
     "output_type": "execute_result"
    }
   ],
   "source": [
    "data['smoke'].value_counts()"
   ]
  },
  {
   "cell_type": "code",
   "execution_count": 58,
   "metadata": {},
   "outputs": [
    {
     "name": "stdout",
     "output_type": "stream",
     "text": [
      "   smoke   high_bp\n",
      "0      0  0.411975\n",
      "1      1  0.461585\n",
      "t = 6.804386527767794, p = 5.123090740293953e-12\n",
      "Conclusion n Since p-value(=0.000000) < alpha(=0.05) We reject the null hypothesis H0.\n",
      "So we conclude that the average high blood pressure for smokers is higher than nonsmokers, i.e., mean_high_bp_smoker > mean_high_bp_nonsmoker at 0.05 level of significance.\n"
     ]
    }
   ],
   "source": [
    "# a) Smoke vs. Blood Pressure\n",
    "\n",
    "# Define samples\n",
    "smoker_high_bp    = data[data['smoke'] == 0]['high_bp']\n",
    "nonsmoker_high_bp = data[data['smoke'] == 1]['high_bp']\n",
    "\n",
    "# Look at High Blood Pressure Proportions by Smoking Behavior\n",
    "dict_08_a = {'high_bp' : 'mean'}\n",
    "print(data.groupby('smoke').agg(dict_08_a).reset_index())\n",
    "\n",
    "# Hypothesis Test for Differences in Proportions (Right-tail test)\n",
    "# H_0: The average high blood pressure for smokers is the same for nonsmokers. (mean_high_bp_smoker = mean_high_bp_nonsmoker)\n",
    "# H_A: The average high blood pressure for smokers is higher than nonsmokers.  (mean_high_bp_nonsmoker < mean_high_bp_smoker)\n",
    "\n",
    "t_stat, p_value = stats.ttest_ind(nonsmoker_high_bp, smoker_high_bp, alternative = 'greater')\n",
    "one_tailed_p_value = float(\"{:.6f}\".format(p_value))\n",
    "\n",
    "print(f't = {t_stat}, p = {p_value}')\n",
    "\n",
    "alpha = 0.05\n",
    "if one_tailed_p_value <= alpha:\n",
    "    print('Conclusion','n','Since p-value(=%f)'%one_tailed_p_value,'<','alpha(=%.2f)'%alpha,'''We reject the null hypothesis H0.\n",
    "So we conclude that the average high blood pressure for smokers is higher than nonsmokers, i.e., mean_high_bp_smoker > mean_high_bp_nonsmoker at %.2f level of significance.'''%alpha)\n",
    "\n",
    "else:\n",
    "\n",
    "    print('Conclusion','n','Since p-value(=%f)'%one_tailed_p_value,'>','alpha(=%.2f)'%alpha,'''We do not reject the null hypothesis H0. \n",
    "\n",
    "So we conclude that the average high blood pressure for smokers is the same for nonsmokers, i.e., mean_high_bp_smoker = mean_high_bp_nonsmoker at %.2f level of significance.'''%alpha)"
   ]
  },
  {
   "cell_type": "code",
   "execution_count": 63,
   "metadata": {},
   "outputs": [
    {
     "name": "stdout",
     "output_type": "stream",
     "text": [
      "   smoke  cholesterol\n",
      "0      0     1.353324\n",
      "1      1     1.362545\n",
      "t = 0.9272493396971994, p = 0.1769004727560144\n",
      "Conclusion n Since p-value(=0.176900) > alpha(=0.05) We do not reject the null hypothesis H0. \n",
      "\n",
      "So we conclude that the average cholesterol for smokers is the same for nonsmokers, i.e., mean_cholesterol_smoker = mean_cholesterol_nonsmoker at 0.05 level of significance.\n"
     ]
    }
   ],
   "source": [
    "# b) Smoke vs. Cholesterol\n",
    "\n",
    "# Define samples\n",
    "smoker_cholesterol    = data[data['smoke'] == 0]['cholesterol']\n",
    "nonsmoker_cholesterol = data[data['smoke'] == 1]['cholesterol']\n",
    "\n",
    "# Look at High Blood Pressure Proportions by Smoking Behavior\n",
    "dict_08_b = {'cholesterol' : 'mean'}\n",
    "print(data.groupby('smoke').agg(dict_08_b).reset_index())\n",
    "\n",
    "# Hypothesis Test for Differences in Proportions (Right-tail test)\n",
    "# H_0: The average cholesterol for smokers is the same for nonsmokers. (mean_cholesterol_smoker = mean_cholesterol_nonsmoker)\n",
    "# H_A: The average cholesterol for smokers is higher than nonsmokers.  (mean_cholesterol_nonsmoker < mean_cholesterol_smoker)\n",
    "\n",
    "t_stat, p_value = stats.ttest_ind(nonsmoker_cholesterol, smoker_cholesterol, alternative = 'greater')\n",
    "one_tailed_p_value = float(\"{:.6f}\".format(p_value))\n",
    "\n",
    "print(f't = {t_stat}, p = {p_value}')\n",
    "\n",
    "alpha = 0.05\n",
    "if one_tailed_p_value <= alpha:\n",
    "    print('Conclusion','n','Since p-value(=%f)'%one_tailed_p_value,'<','alpha(=%.2f)'%alpha,'''We reject the null hypothesis H0.\n",
    "So we conclude that the average cholesterol for smokers is higher than nonsmokers, i.e., mean_cholesterol_smoker > mean_cholesterol_nonsmoker at %.2f level of significance.'''%alpha)\n",
    "\n",
    "else:\n",
    "\n",
    "    print('Conclusion','n','Since p-value(=%f)'%one_tailed_p_value,'>','alpha(=%.2f)'%alpha,'''We do not reject the null hypothesis H0. \n",
    "\n",
    "So we conclude that the average cholesterol for smokers is the same for nonsmokers, i.e., mean_cholesterol_smoker = mean_cholesterol_nonsmoker at %.2f level of significance.'''%alpha)"
   ]
  },
  {
   "cell_type": "code",
   "execution_count": 64,
   "metadata": {},
   "outputs": [
    {
     "name": "stdout",
     "output_type": "stream",
     "text": [
      "   smoke     weight\n",
      "0      0  73.302591\n",
      "1      1  75.654842\n",
      "t = -13.443179925848893, p = 1.0\n",
      "Conclusion n Since p-value(=1.000000) > alpha(=0.05) We do not reject the null hypothesis H0. \n",
      "\n",
      "So we conclude that the average weight for smokers is the same for nonsmokers, i.e., mean_weight_smoker = mean_weight_nonsmoker at 0.05 level of significance.\n"
     ]
    }
   ],
   "source": [
    "# c) Smoke vs. Weight\n",
    "\n",
    "# Define samples\n",
    "smoker_weight    = data[data['smoke'] == 0]['weight']\n",
    "nonsmoker_weight = data[data['smoke'] == 1]['weight']\n",
    "\n",
    "# Look at High Blood Pressure Proportions by Smoking Behavior\n",
    "dict_08_c = {'weight' : 'mean'}\n",
    "print(data.groupby('smoke').agg(dict_08_c).reset_index())\n",
    "\n",
    "# Hypothesis Test for Differences in Proportions (Right-tail test)\n",
    "# H_0: The average weight for smokers is the same for nonsmokers. (mean_weight_smoker = mean_weight_nonsmoker)\n",
    "# H_A: The average weight for smokers is higher than nonsmokers.  (mean_weight_nonsmoker > mean_weight_smoker)\n",
    "\n",
    "t_stat, p_value = stats.ttest_ind(smoker_weight, nonsmoker_weight, alternative = 'greater')\n",
    "one_tailed_p_value = float(\"{:.6f}\".format(p_value))\n",
    "\n",
    "print(f't = {t_stat}, p = {p_value}')\n",
    "\n",
    "alpha = 0.05\n",
    "if one_tailed_p_value <= alpha:\n",
    "    print('Conclusion','n','Since p-value(=%f)'%one_tailed_p_value,'<','alpha(=%.2f)'%alpha,'''We reject the null hypothesis H0.\n",
    "So we conclude that the average weight for smokers is higher than nonsmokers, i.e., mean_weight_smoker < mean_weight_nonsmoker at %.2f level of significance.'''%alpha)\n",
    "\n",
    "else:\n",
    "\n",
    "    print('Conclusion','n','Since p-value(=%f)'%one_tailed_p_value,'>','alpha(=%.2f)'%alpha,'''We do not reject the null hypothesis H0. \n",
    "\n",
    "So we conclude that the average weight for smokers is the same for nonsmokers, i.e., mean_weight_smoker = mean_weight_nonsmoker at %.2f level of significance.'''%alpha)"
   ]
  },
  {
   "cell_type": "code",
   "execution_count": 66,
   "metadata": {},
   "outputs": [
    {
     "name": "stdout",
     "output_type": "stream",
     "text": [
      "   gender   high_bp\n",
      "0       1  0.406238\n",
      "1       2  0.435063\n",
      "t = 6.710518866220628, p = 9.785435795023342e-12\n",
      "Conclusion n Since p-value(=0.000000) < alpha(=0.05) We reject the null hypothesis H0.\n",
      "So we conclude that the average high blood pressure for men is higher than women, i.e., mean_high_bp_men > mean_high_bp_women at 0.05 level of significance.\n"
     ]
    }
   ],
   "source": [
    "# d) Gender vs. Blood Pressure\n",
    "\n",
    "# Define samples\n",
    "men_high_bp    = data[data['gender'] == 1]['high_bp']\n",
    "women_high_bp  = data[data['gender'] == 2]['high_bp']\n",
    "\n",
    "# Look at High Blood Pressure Proportions by Smoking Behavior\n",
    "dict_08_d = {'high_bp' : 'mean'}\n",
    "print(data.groupby('gender').agg(dict_08_d).reset_index())\n",
    "\n",
    "# Hypothesis Test for Differences in Proportions (Right-tail test)\n",
    "# H_0: The average high blood pressure for men is the same for women. (mean_high_bp_men = mean_high_bp_women)\n",
    "# H_A: The average high blood pressure for men is higher than women.  (mean_high_bp_women < mean_high_bp_men)\n",
    "\n",
    "t_stat, p_value = stats.ttest_ind(women_high_bp, men_high_bp, alternative = 'greater')\n",
    "one_tailed_p_value = float(\"{:.6f}\".format(p_value))\n",
    "\n",
    "print(f't = {t_stat}, p = {p_value}')\n",
    "\n",
    "alpha = 0.05\n",
    "if one_tailed_p_value <= alpha:\n",
    "    print('Conclusion','n','Since p-value(=%f)'%one_tailed_p_value,'<','alpha(=%.2f)'%alpha,'''We reject the null hypothesis H0.\n",
    "So we conclude that the average high blood pressure for men is higher than women, i.e., mean_high_bp_men > mean_high_bp_women at %.2f level of significance.'''%alpha)\n",
    "\n",
    "else:\n",
    "\n",
    "    print('Conclusion','n','Since p-value(=%f)'%one_tailed_p_value,'>','alpha(=%.2f)'%alpha,'''We do not reject the null hypothesis H0. \n",
    "\n",
    "So we conclude that the average high blood pressure for men is the same for women, i.e., mean_high_bp_men = mean_high_bp_women at %.2f level of significance.'''%alpha)"
   ]
  }
 ],
 "metadata": {
  "interpreter": {
   "hash": "ac7dd041828cf56631353191c608ccde6a0be02c5ac588a2993150c1410b91d4"
  },
  "kernelspec": {
   "display_name": "Python 3.9.7 ('base')",
   "language": "python",
   "name": "python3"
  },
  "language_info": {
   "codemirror_mode": {
    "name": "ipython",
    "version": 3
   },
   "file_extension": ".py",
   "mimetype": "text/x-python",
   "name": "python",
   "nbconvert_exporter": "python",
   "pygments_lexer": "ipython3",
   "version": "3.9.7"
  },
  "orig_nbformat": 4
 },
 "nbformat": 4,
 "nbformat_minor": 2
}
