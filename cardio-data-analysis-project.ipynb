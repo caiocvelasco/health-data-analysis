{
 "cells": [
  {
   "cell_type": "markdown",
   "metadata": {},
   "source": [
    "# Cardio Data Analysis"
   ]
  },
  {
   "cell_type": "markdown",
   "metadata": {},
   "source": [
    "## Contents\n",
    "\n",
    "* About\n",
    "    * Project Development\n",
    "    * Problem Definition\n",
    "    * Objective\n",
    "* Data\n",
    "    * Libraries\n",
    "    * Importing\n",
    "    * Variables\n",
    "    * Important Definitions\n",
    "* Exploratory Data Analysis (EDA)\n",
    "    * Plotting Objectives\n",
    "    * Functions\n",
    "    * Shape and Size\n",
    "    * Types\n",
    "    * Unique Values\n",
    "    * Missing Values\n",
    "    * Units Conversion\n",
    "    * Numeric and Categorical Variables\n",
    "        * Numeric Variables (both Continuous and Discrete)\n",
    "            * Summary statistics\n",
    "            * Probability Distribution\n",
    "            * Outliers Detection and Treatment & Inconsistencies\n",
    "        * Categorical Variables\n",
    "            * Bar Plots\n",
    "    * Correlation Matrix Heatmap"
   ]
  },
  {
   "cell_type": "markdown",
   "metadata": {},
   "source": [
    "## About\n",
    "\n",
    "### Project Development\n",
    "This project was developed locally with Visual Studio Code and GitHub version control.\n",
    "\n",
    "Please check this project @ [GitHub page](https://caiocvelasco.github.io/) or @ [GitHub Repository - Cardio Data Analysis](https://github.com/caiocvelasco/health-data-analysis/blob/a4fafbcd8148a6d501f42a10ae9d313fc3b268e1/cardio-data-analysis-project.ipynb).\n",
    "\n",
    "### Problem Definition\n",
    "\n",
    "A client would like to understand some important patients' cardio-related descriptive statistics.\n",
    "\n",
    "### Objective\n",
    "Our goal is to calculate some descriptive statistics using Numpy, a package for scientific computing in Python."
   ]
  },
  {
   "cell_type": "markdown",
   "metadata": {},
   "source": [
    "## Data\n",
    "Data was already available on a _csv_ format.\n",
    "\n",
    "### Libraries"
   ]
  },
  {
   "cell_type": "code",
   "execution_count": 634,
   "metadata": {},
   "outputs": [],
   "source": [
    "# !pip install seaborn pandas matplotlib numpy\n",
    "import pandas as pd              # for data analysis\n",
    "import numpy as np               # for scientific computing\n",
    "import os                        # for file interactions in the user's operating system\n",
    "import warnings                  # for dealing with warning messages if need be\n",
    "warnings.filterwarnings('ignore')\n",
    "\n",
    "import matplotlib.pyplot as plt  # for data visualization\n",
    "# import matplotlib as mpl\n",
    "import seaborn as sns            # for data visualization"
   ]
  },
  {
   "cell_type": "markdown",
   "metadata": {},
   "source": [
    "### Importing"
   ]
  },
  {
   "cell_type": "code",
   "execution_count": 635,
   "metadata": {},
   "outputs": [
    {
     "data": {
      "text/html": [
       "<div>\n",
       "<style scoped>\n",
       "    .dataframe tbody tr th:only-of-type {\n",
       "        vertical-align: middle;\n",
       "    }\n",
       "\n",
       "    .dataframe tbody tr th {\n",
       "        vertical-align: top;\n",
       "    }\n",
       "\n",
       "    .dataframe thead th {\n",
       "        text-align: right;\n",
       "    }\n",
       "</style>\n",
       "<table border=\"1\" class=\"dataframe\">\n",
       "  <thead>\n",
       "    <tr style=\"text-align: right;\">\n",
       "      <th></th>\n",
       "      <th>id</th>\n",
       "      <th>age</th>\n",
       "      <th>gender</th>\n",
       "      <th>height</th>\n",
       "      <th>weight</th>\n",
       "      <th>ap_hi</th>\n",
       "      <th>ap_lo</th>\n",
       "      <th>cholesterol</th>\n",
       "      <th>smoke</th>\n",
       "    </tr>\n",
       "  </thead>\n",
       "  <tbody>\n",
       "    <tr>\n",
       "      <th>41923</th>\n",
       "      <td>59880</td>\n",
       "      <td>14579</td>\n",
       "      <td>1</td>\n",
       "      <td>168</td>\n",
       "      <td>60.0</td>\n",
       "      <td>140</td>\n",
       "      <td>80</td>\n",
       "      <td>1</td>\n",
       "      <td>0</td>\n",
       "    </tr>\n",
       "    <tr>\n",
       "      <th>56280</th>\n",
       "      <td>80301</td>\n",
       "      <td>18875</td>\n",
       "      <td>2</td>\n",
       "      <td>166</td>\n",
       "      <td>69.0</td>\n",
       "      <td>150</td>\n",
       "      <td>90</td>\n",
       "      <td>2</td>\n",
       "      <td>0</td>\n",
       "    </tr>\n",
       "    <tr>\n",
       "      <th>58237</th>\n",
       "      <td>83103</td>\n",
       "      <td>20444</td>\n",
       "      <td>2</td>\n",
       "      <td>172</td>\n",
       "      <td>78.0</td>\n",
       "      <td>120</td>\n",
       "      <td>80</td>\n",
       "      <td>3</td>\n",
       "      <td>0</td>\n",
       "    </tr>\n",
       "    <tr>\n",
       "      <th>39529</th>\n",
       "      <td>56479</td>\n",
       "      <td>22759</td>\n",
       "      <td>1</td>\n",
       "      <td>153</td>\n",
       "      <td>53.0</td>\n",
       "      <td>120</td>\n",
       "      <td>80</td>\n",
       "      <td>2</td>\n",
       "      <td>0</td>\n",
       "    </tr>\n",
       "    <tr>\n",
       "      <th>15160</th>\n",
       "      <td>21677</td>\n",
       "      <td>15432</td>\n",
       "      <td>1</td>\n",
       "      <td>159</td>\n",
       "      <td>58.0</td>\n",
       "      <td>110</td>\n",
       "      <td>70</td>\n",
       "      <td>1</td>\n",
       "      <td>0</td>\n",
       "    </tr>\n",
       "  </tbody>\n",
       "</table>\n",
       "</div>"
      ],
      "text/plain": [
       "          id    age  gender  height  weight  ap_hi  ap_lo  cholesterol  smoke\n",
       "41923  59880  14579       1     168    60.0    140     80            1      0\n",
       "56280  80301  18875       2     166    69.0    150     90            2      0\n",
       "58237  83103  20444       2     172    78.0    120     80            3      0\n",
       "39529  56479  22759       1     153    53.0    120     80            2      0\n",
       "15160  21677  15432       1     159    58.0    110     70            1      0"
      ]
     },
     "execution_count": 635,
     "metadata": {},
     "output_type": "execute_result"
    }
   ],
   "source": [
    "# Basic Settings\n",
    "csv_folder_name = \"health_dataset\"  # please, change the folder name (where the CSV files are stored) if need be\n",
    "notebook_location = \"C:\\\\Users\\\\caiov\\\\OneDrive - UCLA IT Services\\\\Documentos\\\\DataScience\\\\Datasets\" # set the location where this notebook is saved\n",
    "csv_folder_path = notebook_location + \"\\\\\" + csv_folder_name  # set path for the CSV files\n",
    "os.chdir(csv_folder_path)                                     # set location of CSV files\n",
    "\n",
    "# Save cvs Data on a Pandas Dataframe\n",
    "df = pd.read_csv(\"cardio_base.csv\", sep = \",\", skipinitialspace = True) #skip space after delimiter if need be\n",
    "\n",
    "# Save a Copy of the Dataframe\n",
    "data = df.copy()\n",
    "\n",
    "# Dataset Manipulation\n",
    "data.name = \"Cardio Base Dataset\" # rename the dataset \n",
    "cols = data.columns;              # create an index list with feature names\n",
    "\n",
    "# Quick Overview of a Sample from the Data\n",
    "pd.set_option(\"display.max_columns\", None) # changing the max_columns value\n",
    "data.sample(5)"
   ]
  },
  {
   "cell_type": "markdown",
   "metadata": {},
   "source": [
    "### Important Definitions\n",
    "\n",
    "Variables may be classified into two main categories: **Numeric** or **Categorical**.\n",
    "\n",
    "#### Numeric (or Quantitative) variables\n",
    "A numeric variable is a quantifiable characteristic whose values are numbers (except numbers which are codes standing up for categories). \n",
    "* Note: Numeric variables may be either **Continuous** or **Discrete**.\n",
    "\n",
    "**[Definition]** Continuous variables: Those related to real numbers in mathematics (e.g.: 1.034), which brings the mathematical nature of uncountable infinity, i.e., \"an infinite amount of numbers\". It is usually expressed as float64 in computer science and is connected the idea of precision. Example: Height, which can be as precise as we want.\n",
    "\n",
    "**[Definition]** Discrete variables: Those related to integer numbers in mathematics (e.g.: 34), which brings the mathematical nature of finiteness, i.e., \"a fixed amount of numbers\". It is usually expressed as int64 in computer science. Note that in this case, precision has no meaning. Example: Age, in which precision has no meaning.\n",
    "\n",
    "#### Categorical (or Qualitative) variables\n",
    "A Categorical variable refers to a characteristic that can’t be quantifiable.\n",
    "* Note: Categorical variables can be either **Nominal** or **Ordinal**.\n",
    "\n",
    "**[Definition]** Nominal variables: is one that describes a name, label or category without natural order. Example: Gender.\n",
    "\n",
    "**[Definition]** Ordinal variables: An ordinal variable is a variable whose values are defined by an order relation between the different categories. Example: Rating System (excellent, good, bad)."
   ]
  },
  {
   "cell_type": "markdown",
   "metadata": {},
   "source": [
    "### Variables\n",
    "\n",
    "Let's take a closer look at the variables and their documentation.\n",
    "\n",
    "| Feature                  | Variable Type (broad)  | Variable Type (specific) | Variable    | value type |\n",
    "|:-------------------------|:-----------------------|:-------------------------|:------------|:-----------|\n",
    "| Unique ID                | Categorical Variable   | Ordinal Variable         | id          | int\n",
    "| Age                      | Numeric Variable       | Discrete Variable        | age         | int (days)\n",
    "| Gender                   | Categorical Variable   | Nominal Variable         | gender      | int (binary)\n",
    "| Height                   | Numeric Variable       | Continuous Variable      | height      | int (cm)\n",
    "| Weight                   | Numeric Variable       | Continuous Variable      | weight      | float (kg)\n",
    "| Systolic blood pressure  | Numeric Variable       | Continuous Variable      | ap_hi       | int\n",
    "| Diastolic blood pressure | Numeric Variable       | Continuous Variable      | ap_lo       | int\n",
    "| Cholesterol              | Categorical Variable   | Ordinal Variable         | cholesterol | int (1: normal, 2: above normal, 3: well above normal)\n",
    "| Smoking                  | Categorical Variable   | Nominal Variable         | smoke       | int (binary)"
   ]
  },
  {
   "cell_type": "code",
   "execution_count": 636,
   "metadata": {},
   "outputs": [],
   "source": [
    "# Store the relevant Categorical Variables for analysis on a list\n",
    "cat_cols = ['gender', 'cholesterol', 'smoke']\n",
    "\n",
    "# Store the relevant Numeric Variables for analysis on a list\n",
    "num_cols = ['age', 'height', 'weight', 'ap_hi', 'ap_lo']     \n"
   ]
  },
  {
   "cell_type": "markdown",
   "metadata": {},
   "source": [
    "## Exploratory Data Analysis (EDA)"
   ]
  },
  {
   "cell_type": "markdown",
   "metadata": {},
   "source": [
    "### Plotting Objectives\n",
    "Before diving into the EDA, it is good to have a clear goal in mind. Our goal is to calculate some descriptive statistics.\n",
    "\n",
    "Given our goal, the following points should help explore and visualize data accordingly:\n",
    " * Check features and their distributions, unidimensionally.\n",
    " * Check correlation between features, bidimensionally."
   ]
  },
  {
   "cell_type": "markdown",
   "metadata": {},
   "source": [
    "### Defining Functions for EDA"
   ]
  },
  {
   "cell_type": "code",
   "execution_count": 637,
   "metadata": {},
   "outputs": [],
   "source": [
    "### DATA ANALYSIS PART ###\n",
    "\n",
    "# Checking Shape\n",
    "def data_shape(data):\n",
    "    print(\"Dataset shape: \" + str(data.shape[0]) + \" observations and \" + str(data.shape[1]) + \" features.\")\n",
    "\n",
    "# Check Size\n",
    "def data_size(data):\n",
    "    print(\"This dataset has a total of: \" + str(data.size) + \" entries.\")\n",
    "\n",
    "# Check Information\n",
    "def data_info(data):\n",
    "    print(data.name)\n",
    "    print(\"--------------------------------------\")\n",
    "    data.info()\n",
    "    print(\"--------------------------------------\")  \n",
    "    \n",
    "# Get Unique Values - Relevant Categorical Variables\n",
    "def unique_values(data, columns_list):                      # define a function (output: unique values for categorical variables on the numeric format 'int')\n",
    "    for i in columns_list:                                   # cols is the list of features from this dataset defined in the section above\n",
    "        print('Unique values in', i, 'are', data[i].unique()) # calls function unique() to find get unique values\n",
    "        print('----------------------------------------------------------------------------------------------------')\n",
    "\n",
    "# Check for Missing Values\n",
    "def missing_values(data):\n",
    "    print('Checking for missing values in the', data.name) # data.name has been defined previously in the \"Importing\" section\n",
    "    print('------------------------------------------------------------')\n",
    "    print(data.isna().sum())\n",
    "    print('------------------------------------------------------------')\n",
    "\n",
    "# Save Data - Numeric & Continuous Variables\n",
    "def save_num_data(data, columns_list):\n",
    "    num_data = data[columns_list]\n",
    "    num_data.name = \"Cardio Base Dataset - Numerical Variables\" # rename the dataset\n",
    "    return num_data\n",
    "    \n",
    "# Save Data - Relevant Categorical Variable\n",
    "def save_cat_data(data, columns_list):\n",
    "    cat_data = data[columns_list]\n",
    "    cat_data.name = \"Cardio Base Dataset - Categorical Variables\" # rename the dataset\n",
    "    return cat_data\n",
    "\n",
    "# IQR Method - Detecting Outliers\n",
    "def iqr_method(potential_outliers, data): #arg 1 takes list of features with potential outliers, arg2 \n",
    "    i = 1\n",
    "    for col in potential_outliers:\n",
    "        Q1 = data[col].quantile(0.25)\n",
    "        Q3 = data[col].quantile(0.75)\n",
    "        IQR = Q3 - Q1\n",
    "        print(f'column {i}: {data[col].name}\\n------------------------')\n",
    "        print('1st quantile => ',Q1)\n",
    "        print('3rd quantile => ',Q3)\n",
    "        print('IQR =>',IQR)\n",
    "\n",
    "        lower_bound  = Q1-(1.5*IQR)\n",
    "        print('lower_bound => ' + str(lower_bound))\n",
    "\n",
    "        upper_bound = Q3+(1.5*IQR)\n",
    "        print('upper_bound => ' + str(upper_bound))\n",
    "        print(\"\\n------------------------\")\n",
    "        \n",
    "        i = i + 1\n",
    "\n",
    "        data[col][((data[col] < lower_bound) | (data[col] > upper_bound))] = np.nan  # replacing outliers with NaN\n",
    "\n",
    "# Outliers Method - For Height and Weight\n",
    "def bound_method(data):\n",
    "    for col in data:\n",
    "        data[col][ (data[col] > data[col].quantile(0.975)) | (data[col] < data[col].quantile(0.025))] = np.nan  # replacing outliers with NaN\n",
    "\n",
    "\n",
    "### VISUALIZATION PART ###\n",
    "\n",
    "# Plot Probability Distributions - Continuous Variables\n",
    "def pdf_plot_cont(data):\n",
    "    for i in data:\n",
    "        ax = sns.displot(data[i], kind=\"kde\")\n",
    "        plt.show()\n",
    "\n",
    "# Plot Bar Plots - Categorical Variables (and order by value_counts within them)\n",
    "def bar_plot_cat(data):\n",
    "    plt.figure(figsize=(5,4))\n",
    "    for i in data:\n",
    "        ax = sns.countplot(x = data[i], order = data[i].value_counts().index)\n",
    "        plt.show()\n",
    "\n",
    "# Plot Box Plots - Continuous Variables\n",
    "def box_plot(data): # the first argument takes a list of features and the second the dataset\n",
    "    for i in data:\n",
    "        ax = sns.boxplot(x = data[i], orient = 'h')\n",
    "        plt.show()\n"
   ]
  },
  {
   "cell_type": "markdown",
   "metadata": {},
   "source": [
    "### Shape and Size"
   ]
  },
  {
   "cell_type": "code",
   "execution_count": 638,
   "metadata": {},
   "outputs": [
    {
     "name": "stdout",
     "output_type": "stream",
     "text": [
      "Dataset shape: 70000 observations and 9 features.\n",
      "This dataset has a total of: 630000 entries.\n"
     ]
    }
   ],
   "source": [
    "# Check Shape and Size\n",
    "data_shape(data) # calls shape function\n",
    "data_size(data)  # calls size function"
   ]
  },
  {
   "cell_type": "markdown",
   "metadata": {},
   "source": [
    "### Types"
   ]
  },
  {
   "cell_type": "code",
   "execution_count": 639,
   "metadata": {},
   "outputs": [
    {
     "name": "stdout",
     "output_type": "stream",
     "text": [
      "Cardio Base Dataset\n",
      "--------------------------------------\n",
      "<class 'pandas.core.frame.DataFrame'>\n",
      "RangeIndex: 70000 entries, 0 to 69999\n",
      "Data columns (total 9 columns):\n",
      " #   Column       Non-Null Count  Dtype  \n",
      "---  ------       --------------  -----  \n",
      " 0   id           70000 non-null  int64  \n",
      " 1   age          70000 non-null  int64  \n",
      " 2   gender       70000 non-null  int64  \n",
      " 3   height       70000 non-null  int64  \n",
      " 4   weight       70000 non-null  float64\n",
      " 5   ap_hi        70000 non-null  int64  \n",
      " 6   ap_lo        70000 non-null  int64  \n",
      " 7   cholesterol  70000 non-null  int64  \n",
      " 8   smoke        70000 non-null  int64  \n",
      "dtypes: float64(1), int64(8)\n",
      "memory usage: 4.8 MB\n",
      "--------------------------------------\n"
     ]
    }
   ],
   "source": [
    "# Check Data Type\n",
    "data_info(data) # calls info function"
   ]
  },
  {
   "cell_type": "markdown",
   "metadata": {},
   "source": [
    "All features have the expected type, but height, which should be interpreted as float.\n",
    "\n",
    "Notice that all non-null counts are the same, so the dataset does not seem to have missing values. \n",
    "\n",
    "However, it is always good to check whether discrete variables have the expected values. These are: __gender, cholesterol, smoke__. \n",
    "\n",
    "For that, we will look into _Unique values_."
   ]
  },
  {
   "cell_type": "code",
   "execution_count": 640,
   "metadata": {},
   "outputs": [
    {
     "name": "stdout",
     "output_type": "stream",
     "text": [
      "<class 'pandas.core.frame.DataFrame'>\n",
      "RangeIndex: 70000 entries, 0 to 69999\n",
      "Data columns (total 9 columns):\n",
      " #   Column       Non-Null Count  Dtype  \n",
      "---  ------       --------------  -----  \n",
      " 0   id           70000 non-null  int64  \n",
      " 1   age          70000 non-null  int64  \n",
      " 2   gender       70000 non-null  int64  \n",
      " 3   height       70000 non-null  float64\n",
      " 4   weight       70000 non-null  float64\n",
      " 5   ap_hi        70000 non-null  float64\n",
      " 6   ap_lo        70000 non-null  float64\n",
      " 7   cholesterol  70000 non-null  int64  \n",
      " 8   smoke        70000 non-null  int64  \n",
      "dtypes: float64(4), int64(5)\n",
      "memory usage: 4.8 MB\n"
     ]
    }
   ],
   "source": [
    "# Converting height, ap_hi, and ap_lo types from int to float\n",
    "data['height'] = data['height'].astype('float64')\n",
    "data['ap_hi']  = data['ap_hi'].astype('float64')\n",
    "data['ap_lo']  = data['ap_lo'].astype('float64')\n",
    "\n",
    "# Check new type for Height\n",
    "data.info()"
   ]
  },
  {
   "cell_type": "markdown",
   "metadata": {},
   "source": [
    "### Unique Values\n",
    "Let's take a closer look into the discrete variables."
   ]
  },
  {
   "cell_type": "code",
   "execution_count": 641,
   "metadata": {},
   "outputs": [
    {
     "name": "stdout",
     "output_type": "stream",
     "text": [
      "Unique values in gender are [2 1]\n",
      "----------------------------------------------------------------------------------------------------\n",
      "Unique values in cholesterol are [1 3 2]\n",
      "----------------------------------------------------------------------------------------------------\n",
      "Unique values in smoke are [0 1]\n",
      "----------------------------------------------------------------------------------------------------\n"
     ]
    }
   ],
   "source": [
    "# Check for Unique Values on Categorical Variables\n",
    "unique_values(data, cat_cols) # calls unique values function"
   ]
  },
  {
   "cell_type": "markdown",
   "metadata": {},
   "source": [
    "All indicator variables the expected values. There are no inconsistent values."
   ]
  },
  {
   "cell_type": "markdown",
   "metadata": {},
   "source": [
    "### Missing Values"
   ]
  },
  {
   "cell_type": "markdown",
   "metadata": {},
   "source": [
    "In this dataset, there is no missing values in the N/A format."
   ]
  },
  {
   "cell_type": "code",
   "execution_count": 642,
   "metadata": {},
   "outputs": [
    {
     "name": "stdout",
     "output_type": "stream",
     "text": [
      "Checking for missing values in the Cardio Base Dataset\n",
      "------------------------------------------------------------\n",
      "id             0\n",
      "age            0\n",
      "gender         0\n",
      "height         0\n",
      "weight         0\n",
      "ap_hi          0\n",
      "ap_lo          0\n",
      "cholesterol    0\n",
      "smoke          0\n",
      "dtype: int64\n",
      "------------------------------------------------------------\n"
     ]
    }
   ],
   "source": [
    "# Check for missing values (before treating for outliers)\n",
    "missing_values(data) # calls missing values function"
   ]
  },
  {
   "cell_type": "markdown",
   "metadata": {},
   "source": [
    "### Units Conversion\n",
    "\n",
    "Checking whether theer is a need for unit conversion in the given features.\n",
    "\n",
    "The variable age is in days, so we need to convert it to years and round it down, as requested. The other variables are okay."
   ]
  },
  {
   "cell_type": "code",
   "execution_count": 643,
   "metadata": {},
   "outputs": [
    {
     "name": "stdout",
     "output_type": "stream",
     "text": [
      "Check old and new features:\n",
      "       age  age_years_float\n",
      "13281   52        52.032877\n",
      "14459   57        57.958904\n",
      "12878   59        59.816438\n",
      "38925   49        49.690411\n",
      "68751   62        62.183562\n",
      "\n",
      "Check new dataset with new values for the Age feature:\n"
     ]
    },
    {
     "data": {
      "text/html": [
       "<div>\n",
       "<style scoped>\n",
       "    .dataframe tbody tr th:only-of-type {\n",
       "        vertical-align: middle;\n",
       "    }\n",
       "\n",
       "    .dataframe tbody tr th {\n",
       "        vertical-align: top;\n",
       "    }\n",
       "\n",
       "    .dataframe thead th {\n",
       "        text-align: right;\n",
       "    }\n",
       "</style>\n",
       "<table border=\"1\" class=\"dataframe\">\n",
       "  <thead>\n",
       "    <tr style=\"text-align: right;\">\n",
       "      <th></th>\n",
       "      <th>id</th>\n",
       "      <th>age</th>\n",
       "      <th>gender</th>\n",
       "      <th>height</th>\n",
       "      <th>weight</th>\n",
       "      <th>ap_hi</th>\n",
       "      <th>ap_lo</th>\n",
       "      <th>cholesterol</th>\n",
       "      <th>smoke</th>\n",
       "    </tr>\n",
       "  </thead>\n",
       "  <tbody>\n",
       "    <tr>\n",
       "      <th>0</th>\n",
       "      <td>0</td>\n",
       "      <td>50</td>\n",
       "      <td>2</td>\n",
       "      <td>168.0</td>\n",
       "      <td>62.0</td>\n",
       "      <td>110.0</td>\n",
       "      <td>80.0</td>\n",
       "      <td>1</td>\n",
       "      <td>0</td>\n",
       "    </tr>\n",
       "    <tr>\n",
       "      <th>1</th>\n",
       "      <td>1</td>\n",
       "      <td>55</td>\n",
       "      <td>1</td>\n",
       "      <td>156.0</td>\n",
       "      <td>85.0</td>\n",
       "      <td>140.0</td>\n",
       "      <td>90.0</td>\n",
       "      <td>3</td>\n",
       "      <td>0</td>\n",
       "    </tr>\n",
       "    <tr>\n",
       "      <th>2</th>\n",
       "      <td>2</td>\n",
       "      <td>51</td>\n",
       "      <td>1</td>\n",
       "      <td>165.0</td>\n",
       "      <td>64.0</td>\n",
       "      <td>130.0</td>\n",
       "      <td>70.0</td>\n",
       "      <td>3</td>\n",
       "      <td>0</td>\n",
       "    </tr>\n",
       "    <tr>\n",
       "      <th>3</th>\n",
       "      <td>3</td>\n",
       "      <td>48</td>\n",
       "      <td>2</td>\n",
       "      <td>169.0</td>\n",
       "      <td>82.0</td>\n",
       "      <td>150.0</td>\n",
       "      <td>100.0</td>\n",
       "      <td>1</td>\n",
       "      <td>0</td>\n",
       "    </tr>\n",
       "    <tr>\n",
       "      <th>4</th>\n",
       "      <td>4</td>\n",
       "      <td>47</td>\n",
       "      <td>1</td>\n",
       "      <td>156.0</td>\n",
       "      <td>56.0</td>\n",
       "      <td>100.0</td>\n",
       "      <td>60.0</td>\n",
       "      <td>1</td>\n",
       "      <td>0</td>\n",
       "    </tr>\n",
       "  </tbody>\n",
       "</table>\n",
       "</div>"
      ],
      "text/plain": [
       "   id  age  gender  height  weight  ap_hi  ap_lo  cholesterol  smoke\n",
       "0   0   50       2   168.0    62.0  110.0   80.0            1      0\n",
       "1   1   55       1   156.0    85.0  140.0   90.0            3      0\n",
       "2   2   51       1   165.0    64.0  130.0   70.0            3      0\n",
       "3   3   48       2   169.0    82.0  150.0  100.0            1      0\n",
       "4   4   47       1   156.0    56.0  100.0   60.0            1      0"
      ]
     },
     "execution_count": 643,
     "metadata": {},
     "output_type": "execute_result"
    }
   ],
   "source": [
    "# Converting Age from days to years .apply(np.floor)\n",
    "data['age_years_float'] = (data['age'] / 365)\n",
    "data['age']       = (data['age'] / 365).apply(np.floor).astype(int)\n",
    "\n",
    "# Quick overview of age conversion\n",
    "print(\"Check old and new features:\")\n",
    "print(data[['age', 'age_years_float']].sample(5))\n",
    "\n",
    "# Drop unecessary features\n",
    "print(\"\\nCheck new dataset with new values for the Age feature:\")\n",
    "data = data.drop(columns = 'age_years_float')\n",
    "\n",
    "# Quickly check new data\n",
    "data.head()"
   ]
  },
  {
   "cell_type": "markdown",
   "metadata": {},
   "source": [
    "### Numeric and Categorical Variables"
   ]
  },
  {
   "cell_type": "code",
   "execution_count": 644,
   "metadata": {},
   "outputs": [
    {
     "data": {
      "text/html": [
       "<div>\n",
       "<style scoped>\n",
       "    .dataframe tbody tr th:only-of-type {\n",
       "        vertical-align: middle;\n",
       "    }\n",
       "\n",
       "    .dataframe tbody tr th {\n",
       "        vertical-align: top;\n",
       "    }\n",
       "\n",
       "    .dataframe thead th {\n",
       "        text-align: right;\n",
       "    }\n",
       "</style>\n",
       "<table border=\"1\" class=\"dataframe\">\n",
       "  <thead>\n",
       "    <tr style=\"text-align: right;\">\n",
       "      <th></th>\n",
       "      <th>age</th>\n",
       "      <th>height</th>\n",
       "      <th>weight</th>\n",
       "      <th>ap_hi</th>\n",
       "      <th>ap_lo</th>\n",
       "    </tr>\n",
       "  </thead>\n",
       "  <tbody>\n",
       "    <tr>\n",
       "      <th>14077</th>\n",
       "      <td>57</td>\n",
       "      <td>167.0</td>\n",
       "      <td>69.0</td>\n",
       "      <td>120.0</td>\n",
       "      <td>80.0</td>\n",
       "    </tr>\n",
       "    <tr>\n",
       "      <th>24224</th>\n",
       "      <td>63</td>\n",
       "      <td>157.0</td>\n",
       "      <td>83.0</td>\n",
       "      <td>125.0</td>\n",
       "      <td>70.0</td>\n",
       "    </tr>\n",
       "    <tr>\n",
       "      <th>53464</th>\n",
       "      <td>48</td>\n",
       "      <td>165.0</td>\n",
       "      <td>58.0</td>\n",
       "      <td>110.0</td>\n",
       "      <td>70.0</td>\n",
       "    </tr>\n",
       "    <tr>\n",
       "      <th>62663</th>\n",
       "      <td>48</td>\n",
       "      <td>180.0</td>\n",
       "      <td>89.0</td>\n",
       "      <td>140.0</td>\n",
       "      <td>80.0</td>\n",
       "    </tr>\n",
       "    <tr>\n",
       "      <th>2740</th>\n",
       "      <td>60</td>\n",
       "      <td>159.0</td>\n",
       "      <td>61.0</td>\n",
       "      <td>120.0</td>\n",
       "      <td>80.0</td>\n",
       "    </tr>\n",
       "  </tbody>\n",
       "</table>\n",
       "</div>"
      ],
      "text/plain": [
       "       age  height  weight  ap_hi  ap_lo\n",
       "14077   57   167.0    69.0  120.0   80.0\n",
       "24224   63   157.0    83.0  125.0   70.0\n",
       "53464   48   165.0    58.0  110.0   70.0\n",
       "62663   48   180.0    89.0  140.0   80.0\n",
       "2740    60   159.0    61.0  120.0   80.0"
      ]
     },
     "execution_count": 644,
     "metadata": {},
     "output_type": "execute_result"
    }
   ],
   "source": [
    "# Save numeric dataset into a new dataset for later use\n",
    "num_data = save_num_data(data, num_cols) # calls save_num_data function and stores output\n",
    "\n",
    "# Quick Overview\n",
    "num_data.sample(5)"
   ]
  },
  {
   "cell_type": "code",
   "execution_count": 645,
   "metadata": {},
   "outputs": [
    {
     "data": {
      "text/html": [
       "<div>\n",
       "<style scoped>\n",
       "    .dataframe tbody tr th:only-of-type {\n",
       "        vertical-align: middle;\n",
       "    }\n",
       "\n",
       "    .dataframe tbody tr th {\n",
       "        vertical-align: top;\n",
       "    }\n",
       "\n",
       "    .dataframe thead th {\n",
       "        text-align: right;\n",
       "    }\n",
       "</style>\n",
       "<table border=\"1\" class=\"dataframe\">\n",
       "  <thead>\n",
       "    <tr style=\"text-align: right;\">\n",
       "      <th></th>\n",
       "      <th>gender</th>\n",
       "      <th>cholesterol</th>\n",
       "      <th>smoke</th>\n",
       "    </tr>\n",
       "  </thead>\n",
       "  <tbody>\n",
       "    <tr>\n",
       "      <th>16603</th>\n",
       "      <td>2</td>\n",
       "      <td>1</td>\n",
       "      <td>0</td>\n",
       "    </tr>\n",
       "    <tr>\n",
       "      <th>43090</th>\n",
       "      <td>1</td>\n",
       "      <td>2</td>\n",
       "      <td>0</td>\n",
       "    </tr>\n",
       "    <tr>\n",
       "      <th>60979</th>\n",
       "      <td>1</td>\n",
       "      <td>1</td>\n",
       "      <td>0</td>\n",
       "    </tr>\n",
       "    <tr>\n",
       "      <th>4699</th>\n",
       "      <td>2</td>\n",
       "      <td>1</td>\n",
       "      <td>0</td>\n",
       "    </tr>\n",
       "    <tr>\n",
       "      <th>57083</th>\n",
       "      <td>2</td>\n",
       "      <td>1</td>\n",
       "      <td>1</td>\n",
       "    </tr>\n",
       "  </tbody>\n",
       "</table>\n",
       "</div>"
      ],
      "text/plain": [
       "       gender  cholesterol  smoke\n",
       "16603       2            1      0\n",
       "43090       1            2      0\n",
       "60979       1            1      0\n",
       "4699        2            1      0\n",
       "57083       2            1      1"
      ]
     },
     "execution_count": 645,
     "metadata": {},
     "output_type": "execute_result"
    }
   ],
   "source": [
    "# Save categorical dataset into a new dataset for later use\n",
    "cat_data = save_cat_data(data, cat_cols) # calls save_cat_data function and stores output\n",
    "\n",
    "# Quick Overview\n",
    "cat_data.sample(5)"
   ]
  },
  {
   "cell_type": "markdown",
   "metadata": {},
   "source": [
    "### Numeric Variables\n",
    "\n",
    "In this section, we will check whether the most common statistics makes sense for the Numeric Variables. We'll check the max and min values. We'll also check for outliers."
   ]
  },
  {
   "cell_type": "markdown",
   "metadata": {},
   "source": [
    "#### Summary Statistics"
   ]
  },
  {
   "cell_type": "code",
   "execution_count": 646,
   "metadata": {},
   "outputs": [
    {
     "data": {
      "text/html": [
       "<div>\n",
       "<style scoped>\n",
       "    .dataframe tbody tr th:only-of-type {\n",
       "        vertical-align: middle;\n",
       "    }\n",
       "\n",
       "    .dataframe tbody tr th {\n",
       "        vertical-align: top;\n",
       "    }\n",
       "\n",
       "    .dataframe thead th {\n",
       "        text-align: right;\n",
       "    }\n",
       "</style>\n",
       "<table border=\"1\" class=\"dataframe\">\n",
       "  <thead>\n",
       "    <tr style=\"text-align: right;\">\n",
       "      <th></th>\n",
       "      <th>count</th>\n",
       "      <th>mean</th>\n",
       "      <th>std</th>\n",
       "      <th>min</th>\n",
       "      <th>25%</th>\n",
       "      <th>50%</th>\n",
       "      <th>75%</th>\n",
       "      <th>max</th>\n",
       "    </tr>\n",
       "  </thead>\n",
       "  <tbody>\n",
       "    <tr>\n",
       "      <th>age</th>\n",
       "      <td>70000.0</td>\n",
       "      <td>52.840671</td>\n",
       "      <td>6.766774</td>\n",
       "      <td>29.0</td>\n",
       "      <td>48.0</td>\n",
       "      <td>53.0</td>\n",
       "      <td>58.0</td>\n",
       "      <td>64.0</td>\n",
       "    </tr>\n",
       "    <tr>\n",
       "      <th>height</th>\n",
       "      <td>70000.0</td>\n",
       "      <td>164.359229</td>\n",
       "      <td>8.210126</td>\n",
       "      <td>55.0</td>\n",
       "      <td>159.0</td>\n",
       "      <td>165.0</td>\n",
       "      <td>170.0</td>\n",
       "      <td>250.0</td>\n",
       "    </tr>\n",
       "    <tr>\n",
       "      <th>weight</th>\n",
       "      <td>70000.0</td>\n",
       "      <td>74.205690</td>\n",
       "      <td>14.395757</td>\n",
       "      <td>10.0</td>\n",
       "      <td>65.0</td>\n",
       "      <td>72.0</td>\n",
       "      <td>82.0</td>\n",
       "      <td>200.0</td>\n",
       "    </tr>\n",
       "    <tr>\n",
       "      <th>ap_hi</th>\n",
       "      <td>70000.0</td>\n",
       "      <td>128.817286</td>\n",
       "      <td>154.011419</td>\n",
       "      <td>-150.0</td>\n",
       "      <td>120.0</td>\n",
       "      <td>120.0</td>\n",
       "      <td>140.0</td>\n",
       "      <td>16020.0</td>\n",
       "    </tr>\n",
       "    <tr>\n",
       "      <th>ap_lo</th>\n",
       "      <td>70000.0</td>\n",
       "      <td>96.630414</td>\n",
       "      <td>188.472530</td>\n",
       "      <td>-70.0</td>\n",
       "      <td>80.0</td>\n",
       "      <td>80.0</td>\n",
       "      <td>90.0</td>\n",
       "      <td>11000.0</td>\n",
       "    </tr>\n",
       "  </tbody>\n",
       "</table>\n",
       "</div>"
      ],
      "text/plain": [
       "          count        mean         std    min    25%    50%    75%      max\n",
       "age     70000.0   52.840671    6.766774   29.0   48.0   53.0   58.0     64.0\n",
       "height  70000.0  164.359229    8.210126   55.0  159.0  165.0  170.0    250.0\n",
       "weight  70000.0   74.205690   14.395757   10.0   65.0   72.0   82.0    200.0\n",
       "ap_hi   70000.0  128.817286  154.011419 -150.0  120.0  120.0  140.0  16020.0\n",
       "ap_lo   70000.0   96.630414  188.472530  -70.0   80.0   80.0   90.0  11000.0"
      ]
     },
     "execution_count": 646,
     "metadata": {},
     "output_type": "execute_result"
    }
   ],
   "source": [
    "# Summary Statistics - Numerical Variables\n",
    "num_data.describe().T"
   ]
  },
  {
   "cell_type": "markdown",
   "metadata": {},
   "source": [
    "#### Probability Distributions"
   ]
  },
  {
   "cell_type": "code",
   "execution_count": 647,
   "metadata": {},
   "outputs": [
    {
     "data": {
      "image/png": "[encoded data removed]",
      "text/plain": [
       "<Figure size 360x360 with 1 Axes>"
      ]
     },
     "metadata": {
      "needs_background": "light"
     },
     "output_type": "display_data"
    },
    {
     "data": {
      "image/png": "[encoded data removed]",
      "text/plain": [
       "<Figure size 360x360 with 1 Axes>"
      ]
     },
     "metadata": {
      "needs_background": "light"
     },
     "output_type": "display_data"
    },
    {
     "data": {
      "image/png": "[encoded data removed]",
      "text/plain": [
       "<Figure size 360x360 with 1 Axes>"
      ]
     },
     "metadata": {
      "needs_background": "light"
     },
     "output_type": "display_data"
    },
    {
     "data": {
      "image/png": "[encoded data removed]",
      "text/plain": [
       "<Figure size 360x360 with 1 Axes>"
      ]
     },
     "metadata": {
      "needs_background": "light"
     },
     "output_type": "display_data"
    },
    {
     "data": {
      "image/png": "[encoded data removed]",
      "text/plain": [
       "<Figure size 360x360 with 1 Axes>"
      ]
     },
     "metadata": {
      "needs_background": "light"
     },
     "output_type": "display_data"
    }
   ],
   "source": [
    "#### Probability Distributions (PDFs) - Numerical Variables\n",
    "pdf_plot_cont(num_data) # calls pdf plot function"
   ]
  },
  {
   "cell_type": "markdown",
   "metadata": {},
   "source": [
    "Some features are strongly skewed to the right, let's focus on those. They are: **ap_hi, ap_lo**.\n",
    "\n",
    "This information is important because it supports the methods we use for:\n",
    "* Outliers Detection and Treatment"
   ]
  },
  {
   "cell_type": "markdown",
   "metadata": {},
   "source": [
    "#### Outliers Detection and Treatment & Inconsistencies\n",
    "\n",
    "Outliers can be found due to variation within the data (i.e., due to an unexpected large variance in a feature) or due to mistakes. Both cases can be dealt with. We started by looking at the probability distribution of those features and we noticed their skewness, which might indicated possible candidate features for outliers. We also looked at the summary statistics which also show unexpected values."
   ]
  },
  {
   "cell_type": "code",
   "execution_count": 648,
   "metadata": {},
   "outputs": [
    {
     "data": {
      "image/png": "[encoded data removed]",
      "text/plain": [
       "<Figure size 432x288 with 1 Axes>"
      ]
     },
     "metadata": {
      "needs_background": "light"
     },
     "output_type": "display_data"
    },
    {
     "data": {
      "image/png": "[encoded data removed]",
      "text/plain": [
       "<Figure size 432x288 with 1 Axes>"
      ]
     },
     "metadata": {
      "needs_background": "light"
     },
     "output_type": "display_data"
    },
    {
     "data": {
      "image/png": "[encoded data removed]",
      "text/plain": [
       "<Figure size 432x288 with 1 Axes>"
      ]
     },
     "metadata": {
      "needs_background": "light"
     },
     "output_type": "display_data"
    },
    {
     "data": {
      "image/png": "[encoded data removed]",
      "text/plain": [
       "<Figure size 432x288 with 1 Axes>"
      ]
     },
     "metadata": {
      "needs_background": "light"
     },
     "output_type": "display_data"
    },
    {
     "data": {
      "image/png": "[encoded data removed]",
      "text/plain": [
       "<Figure size 432x288 with 1 Axes>"
      ]
     },
     "metadata": {
      "needs_background": "light"
     },
     "output_type": "display_data"
    }
   ],
   "source": [
    "# Boxplots (before treating for outliers) - Numerical Variables\n",
    "box_plot(num_data)"
   ]
  },
  {
   "cell_type": "markdown",
   "metadata": {},
   "source": [
    "For Height and Weight, we will use intuition and remove those that fall below 2.5% or above 97.5% of a given range.\n",
    "\n",
    "For Diastolic and Systolic, we will do the same but we will also correct the cases where diastolic pressure is higher than systolic (because this is not correct) and the cases where blood pressures is negative, which is also incorrect."
   ]
  },
  {
   "cell_type": "code",
   "execution_count": 649,
   "metadata": {},
   "outputs": [],
   "source": [
    "# Handling Outliers within a given range\n",
    "bound_method(data)"
   ]
  },
  {
   "cell_type": "code",
   "execution_count": 650,
   "metadata": {},
   "outputs": [
    {
     "name": "stdout",
     "output_type": "stream",
     "text": [
      "Diastilic pressure is higher than systolic one in 0 cases.\n"
     ]
    }
   ],
   "source": [
    "# Check whether Diastolic > Systolic\n",
    "print(\"Diastilic pressure is higher than systolic one in {0} cases.\".format(data[data['ap_lo'] > data['ap_hi']].shape[0]))"
   ]
  },
  {
   "cell_type": "code",
   "execution_count": 651,
   "metadata": {},
   "outputs": [
    {
     "name": "stdout",
     "output_type": "stream",
     "text": [
      "Diastilic pressure is higher than systolic one in 0 cases.\n"
     ]
    }
   ],
   "source": [
    "# Assign NaN values to ap_lo and ap_hi when this incorrect case of Diastolic > Systolic is true\n",
    "data['ap_lo'][ data['ap_lo'] > data['ap_hi'] ] = np.nan\n",
    "data['ap_hi'][ data['ap_lo'] > data['ap_hi'] ] = np.nan\n",
    "\n",
    "print(\"Diastilic pressure is higher than systolic one in {0} cases.\".format(data[data['ap_lo'] > data['ap_hi']].shape[0]))"
   ]
  },
  {
   "cell_type": "code",
   "execution_count": 652,
   "metadata": {},
   "outputs": [
    {
     "data": {
      "text/html": [
       "<div>\n",
       "<style scoped>\n",
       "    .dataframe tbody tr th:only-of-type {\n",
       "        vertical-align: middle;\n",
       "    }\n",
       "\n",
       "    .dataframe tbody tr th {\n",
       "        vertical-align: top;\n",
       "    }\n",
       "\n",
       "    .dataframe thead th {\n",
       "        text-align: right;\n",
       "    }\n",
       "</style>\n",
       "<table border=\"1\" class=\"dataframe\">\n",
       "  <thead>\n",
       "    <tr style=\"text-align: right;\">\n",
       "      <th></th>\n",
       "      <th>count</th>\n",
       "      <th>mean</th>\n",
       "      <th>std</th>\n",
       "      <th>min</th>\n",
       "      <th>25%</th>\n",
       "      <th>50%</th>\n",
       "      <th>75%</th>\n",
       "      <th>max</th>\n",
       "    </tr>\n",
       "  </thead>\n",
       "  <tbody>\n",
       "    <tr>\n",
       "      <th>age</th>\n",
       "      <td>69996.0</td>\n",
       "      <td>52.842020</td>\n",
       "      <td>6.764616</td>\n",
       "      <td>39.0</td>\n",
       "      <td>48.0</td>\n",
       "      <td>53.0</td>\n",
       "      <td>58.0</td>\n",
       "      <td>64.0</td>\n",
       "    </tr>\n",
       "    <tr>\n",
       "      <th>height</th>\n",
       "      <td>67024.0</td>\n",
       "      <td>164.404616</td>\n",
       "      <td>6.942338</td>\n",
       "      <td>150.0</td>\n",
       "      <td>159.0</td>\n",
       "      <td>165.0</td>\n",
       "      <td>169.0</td>\n",
       "      <td>180.0</td>\n",
       "    </tr>\n",
       "    <tr>\n",
       "      <th>weight</th>\n",
       "      <td>66897.0</td>\n",
       "      <td>73.715140</td>\n",
       "      <td>12.069034</td>\n",
       "      <td>51.0</td>\n",
       "      <td>65.0</td>\n",
       "      <td>72.0</td>\n",
       "      <td>81.0</td>\n",
       "      <td>108.0</td>\n",
       "    </tr>\n",
       "    <tr>\n",
       "      <th>ap_hi</th>\n",
       "      <td>67536.0</td>\n",
       "      <td>126.728412</td>\n",
       "      <td>14.855947</td>\n",
       "      <td>100.0</td>\n",
       "      <td>120.0</td>\n",
       "      <td>120.0</td>\n",
       "      <td>140.0</td>\n",
       "      <td>170.0</td>\n",
       "    </tr>\n",
       "    <tr>\n",
       "      <th>ap_lo</th>\n",
       "      <td>68085.0</td>\n",
       "      <td>81.028641</td>\n",
       "      <td>8.784395</td>\n",
       "      <td>60.0</td>\n",
       "      <td>80.0</td>\n",
       "      <td>80.0</td>\n",
       "      <td>90.0</td>\n",
       "      <td>100.0</td>\n",
       "    </tr>\n",
       "  </tbody>\n",
       "</table>\n",
       "</div>"
      ],
      "text/plain": [
       "          count        mean        std    min    25%    50%    75%    max\n",
       "age     69996.0   52.842020   6.764616   39.0   48.0   53.0   58.0   64.0\n",
       "height  67024.0  164.404616   6.942338  150.0  159.0  165.0  169.0  180.0\n",
       "weight  66897.0   73.715140  12.069034   51.0   65.0   72.0   81.0  108.0\n",
       "ap_hi   67536.0  126.728412  14.855947  100.0  120.0  120.0  140.0  170.0\n",
       "ap_lo   68085.0   81.028641   8.784395   60.0   80.0   80.0   90.0  100.0"
      ]
     },
     "execution_count": 652,
     "metadata": {},
     "output_type": "execute_result"
    }
   ],
   "source": [
    "# Save New Numeric Dataset without outliers\n",
    "new_num_data = save_num_data(data, num_cols) # calls save_num_data function and stores output\n",
    "\n",
    "# Summary Statistics - New Numerical Variables without outliers\n",
    "new_num_data.describe().T"
   ]
  },
  {
   "cell_type": "code",
   "execution_count": 653,
   "metadata": {},
   "outputs": [
    {
     "data": {
      "image/png": "[encoded data removed]",
      "text/plain": [
       "<Figure size 432x288 with 1 Axes>"
      ]
     },
     "metadata": {
      "needs_background": "light"
     },
     "output_type": "display_data"
    },
    {
     "data": {
      "image/png": "[encoded data removed]",
      "text/plain": [
       "<Figure size 432x288 with 1 Axes>"
      ]
     },
     "metadata": {
      "needs_background": "light"
     },
     "output_type": "display_data"
    },
    {
     "data": {
      "image/png": "[encoded data removed]",
      "text/plain": [
       "<Figure size 432x288 with 1 Axes>"
      ]
     },
     "metadata": {
      "needs_background": "light"
     },
     "output_type": "display_data"
    },
    {
     "data": {
      "image/png": "[encoded data removed]",
      "text/plain": [
       "<Figure size 432x288 with 1 Axes>"
      ]
     },
     "metadata": {
      "needs_background": "light"
     },
     "output_type": "display_data"
    },
    {
     "data": {
      "image/png": "[encoded data removed]",
      "text/plain": [
       "<Figure size 432x288 with 1 Axes>"
      ]
     },
     "metadata": {
      "needs_background": "light"
     },
     "output_type": "display_data"
    }
   ],
   "source": [
    "# Boxplots (after treating for outliers) - Numerical Variables\n",
    "box_plot(new_num_data)"
   ]
  },
  {
   "cell_type": "markdown",
   "metadata": {},
   "source": [
    "Now we have a dataset that is tidy and where outliers were substituted by missing values. This substitution (rather than dropping observations) is important because we won't miss data on other variables where the outliers were not present. \n",
    "\n",
    "Now, both descriptive and inferential statistics can be performed on clean Numeric Variables."
   ]
  },
  {
   "cell_type": "code",
   "execution_count": 654,
   "metadata": {},
   "outputs": [
    {
     "name": "stdout",
     "output_type": "stream",
     "text": [
      "Checking for missing values in the Cardio Base Dataset - Numerical Variables\n",
      "------------------------------------------------------------\n",
      "age          4\n",
      "height    2976\n",
      "weight    3103\n",
      "ap_hi     2464\n",
      "ap_lo     1915\n",
      "dtype: int64\n",
      "------------------------------------------------------------\n"
     ]
    }
   ],
   "source": [
    "# Check for missing values (after treating for outliers) - Numeric Variables\n",
    "missing_values(new_num_data) # calls missing values function"
   ]
  },
  {
   "cell_type": "markdown",
   "metadata": {},
   "source": [
    "Note that these Missing Values are due to the outlier treatment and from the inconsistencies treatment. They would not affect our descriptive statistics because we could account for that.\n",
    "\n",
    "However, to simplify our analysis, let's drop the rows where any missing values are present."
   ]
  },
  {
   "cell_type": "code",
   "execution_count": 655,
   "metadata": {},
   "outputs": [],
   "source": [
    "# Drop rows where at least one Missing values (NaN) in each row is present\n",
    "data.dropna(inplace = True)\n",
    "\n",
    "# Save New Numeric Dataset without outliers and without missing values\n",
    "new_num_data_no_missing = save_num_data(data, num_cols) # calls save_num_data function and stores output"
   ]
  },
  {
   "cell_type": "code",
   "execution_count": 656,
   "metadata": {},
   "outputs": [
    {
     "name": "stdout",
     "output_type": "stream",
     "text": [
      "Checking for missing values in the Cardio Base Dataset - Numerical Variables\n",
      "------------------------------------------------------------\n",
      "age       0\n",
      "height    0\n",
      "weight    0\n",
      "ap_hi     0\n",
      "ap_lo     0\n",
      "dtype: int64\n",
      "------------------------------------------------------------\n"
     ]
    }
   ],
   "source": [
    "# Check for missing values (after treating and dropping outliers) - Numeric Variables\n",
    "missing_values(new_num_data_no_missing) # calls missing values function"
   ]
  },
  {
   "cell_type": "markdown",
   "metadata": {},
   "source": [
    "### Categorical Variables\n",
    "\n",
    "#### Box Plots"
   ]
  },
  {
   "cell_type": "code",
   "execution_count": 657,
   "metadata": {},
   "outputs": [
    {
     "data": {
      "image/png": "[encoded data removed]",
      "text/plain": [
       "<Figure size 360x288 with 1 Axes>"
      ]
     },
     "metadata": {
      "needs_background": "light"
     },
     "output_type": "display_data"
    },
    {
     "data": {
      "image/png": "[encoded data removed]",
      "text/plain": [
       "<Figure size 432x288 with 1 Axes>"
      ]
     },
     "metadata": {
      "needs_background": "light"
     },
     "output_type": "display_data"
    },
    {
     "data": {
      "image/png": "[encoded data removed]",
      "text/plain": [
       "<Figure size 432x288 with 1 Axes>"
      ]
     },
     "metadata": {
      "needs_background": "light"
     },
     "output_type": "display_data"
    }
   ],
   "source": [
    "# Bar Plots for the Relevant Categorical Variables\n",
    "bar_plot_cat(cat_data)"
   ]
  },
  {
   "cell_type": "markdown",
   "metadata": {},
   "source": [
    "Categorical variables look okay. No need for any treatment."
   ]
  },
  {
   "cell_type": "markdown",
   "metadata": {},
   "source": [
    "### Correlation Matrix Heatmap"
   ]
  },
  {
   "cell_type": "code",
   "execution_count": 658,
   "metadata": {},
   "outputs": [
    {
     "data": {
      "image/png": "[encoded data removed]",
      "text/plain": [
       "<Figure size 1080x576 with 2 Axes>"
      ]
     },
     "metadata": {
      "needs_background": "light"
     },
     "output_type": "display_data"
    }
   ],
   "source": [
    "# Heatmap = Correlation among features\n",
    "\n",
    "# function to set figure parameters\n",
    "def fig_att(figure, title, titlex, titley, size, sizexy, weight):\n",
    "    figure.set_title(title,   size = size,   weight = weight)\n",
    "    figure.set_xlabel(titlex, size = sizexy, weight = weight)\n",
    "    figure.set_ylabel(titley, size = sizexy, weight = weight)\n",
    "\n",
    "plt.figure(figsize = (15,8))\n",
    "ax = sns.heatmap(data.corr(), annot = True, fmt = '.1g', vmin = -1, vmax = 1, center = 0)\n",
    "\n",
    "fig_att(ax, \"Heatmap - Correlation among Features\", \"Features\", \"Features\", 35, 25, \"bold\")\n",
    "\n",
    "plt.show()"
   ]
  }
 ],
 "metadata": {
  "interpreter": {
   "hash": "ac7dd041828cf56631353191c608ccde6a0be02c5ac588a2993150c1410b91d4"
  },
  "kernelspec": {
   "display_name": "Python 3.9.7 ('base')",
   "language": "python",
   "name": "python3"
  },
  "language_info": {
   "codemirror_mode": {
    "name": "ipython",
    "version": 3
   },
   "file_extension": ".py",
   "mimetype": "text/x-python",
   "name": "python",
   "nbconvert_exporter": "python",
   "pygments_lexer": "ipython3",
   "version": "3.9.7"
  },
  "orig_nbformat": 4
 },
 "nbformat": 4,
 "nbformat_minor": 2
}
