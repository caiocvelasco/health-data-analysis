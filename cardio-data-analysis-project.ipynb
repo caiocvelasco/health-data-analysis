{
 "cells": [
  {
   "cell_type": "markdown",
   "metadata": {},
   "source": [
    "# Cardio Data Analysis"
   ]
  },
  {
   "cell_type": "markdown",
   "metadata": {},
   "source": [
    "## Contents\n",
    "\n",
    "* About\n",
    "    * Project Development\n",
    "    * Problem Definition\n",
    "    * Objective\n",
    "* Data\n",
    "    * Libraries\n",
    "    * Importing\n",
    "    * Variables\n",
    "    * Important Definitions\n",
    "* Exploratory Data Analysis (EDA)\n",
    "    * Plotting Objectives\n",
    "    * Functions\n",
    "    * Shape and Size\n",
    "    * Types\n",
    "    * Unique Values\n",
    "    * Missing Values\n",
    "    * Units Conversion\n",
    "    * Continuous and Indicator Variables\n",
    "        * Continuous Variables\n",
    "            * Summary statistics\n",
    "            * Probability Distribution\n",
    "            * Making Sense of the (Continuous) Data\n",
    "        * Indicator Variables\n",
    "            * Bar Plots\n",
    "            * Making Sense of the (Categorical) Data\n",
    "    * Class Imbalance\n",
    "* Feature Engineering\n",
    "    * Units Conversion\n",
    "    * Continuous Variables\n",
    "        * Feature Scaling - Standardization (or Z-score Normalization)\n",
    "        * Outliers Detection and Treatment\n",
    "    * Categorical Variables\n",
    "        * Label Encoding\n",
    "* Feature Selection\n",
    "    * Inferential Statistics and Hypothesis Testing\n",
    "    * Feature Importance\n",
    "    * Correlation Matrix Heatmap\n",
    "* Model Training\n",
    "* Model Evaluation\n",
    "* Class Imbalance ?"
   ]
  },
  {
   "cell_type": "markdown",
   "metadata": {},
   "source": [
    "## About\n",
    "\n",
    "### Project Development\n",
    "This project was developed locally with Visual Studio Code and GitHub version control.\n",
    "\n",
    "Please check this project @ [GitHub page](https://caiocvelasco.github.io/) or @ [GitHub Repository - Cardio Data Analysis](https://github.com/caiocvelasco/health-data-analysis/blob/a4fafbcd8148a6d501f42a10ae9d313fc3b268e1/cardio-data-analysis-project.ipynb).\n",
    "\n",
    "### Problem Definition\n",
    "\n",
    "A client would like to understand some important patients' cardio-related descriptive statistics.\n",
    "\n",
    "### Objective\n",
    "Our goal is to calculate some descriptive statistics using Numpy, a package for scientific computing in Python."
   ]
  },
  {
   "cell_type": "markdown",
   "metadata": {},
   "source": [
    "## Data\n",
    "Data was already available on a _csv_ format.\n",
    "\n",
    "### Libraries"
   ]
  },
  {
   "cell_type": "code",
   "execution_count": 334,
   "metadata": {},
   "outputs": [],
   "source": [
    "# !pip install seaborn pandas matplotlib numpy\n",
    "import pandas as pd              # for data analysis\n",
    "import numpy as np               # for scientific computing\n",
    "import os                        # for file interactions in the user's operating system\n",
    "import warnings                  # for dealing with warning messages if need be\n",
    "warnings.filterwarnings('ignore')\n",
    "\n",
    "import matplotlib.pyplot as plt  # for data visualization\n",
    "# import matplotlib as mpl\n",
    "import seaborn as sns            # for data visualization"
   ]
  },
  {
   "cell_type": "markdown",
   "metadata": {},
   "source": [
    "### Importing"
   ]
  },
  {
   "cell_type": "code",
   "execution_count": 335,
   "metadata": {},
   "outputs": [
    {
     "data": {
      "text/html": [
       "<div>\n",
       "<style scoped>\n",
       "    .dataframe tbody tr th:only-of-type {\n",
       "        vertical-align: middle;\n",
       "    }\n",
       "\n",
       "    .dataframe tbody tr th {\n",
       "        vertical-align: top;\n",
       "    }\n",
       "\n",
       "    .dataframe thead th {\n",
       "        text-align: right;\n",
       "    }\n",
       "</style>\n",
       "<table border=\"1\" class=\"dataframe\">\n",
       "  <thead>\n",
       "    <tr style=\"text-align: right;\">\n",
       "      <th></th>\n",
       "      <th>id</th>\n",
       "      <th>age</th>\n",
       "      <th>gender</th>\n",
       "      <th>height</th>\n",
       "      <th>weight</th>\n",
       "      <th>ap_hi</th>\n",
       "      <th>ap_lo</th>\n",
       "      <th>cholesterol</th>\n",
       "      <th>smoke</th>\n",
       "    </tr>\n",
       "  </thead>\n",
       "  <tbody>\n",
       "    <tr>\n",
       "      <th>38789</th>\n",
       "      <td>55375</td>\n",
       "      <td>22096</td>\n",
       "      <td>1</td>\n",
       "      <td>165</td>\n",
       "      <td>57.0</td>\n",
       "      <td>120</td>\n",
       "      <td>80</td>\n",
       "      <td>1</td>\n",
       "      <td>0</td>\n",
       "    </tr>\n",
       "    <tr>\n",
       "      <th>1182</th>\n",
       "      <td>1650</td>\n",
       "      <td>22124</td>\n",
       "      <td>1</td>\n",
       "      <td>167</td>\n",
       "      <td>68.0</td>\n",
       "      <td>120</td>\n",
       "      <td>80</td>\n",
       "      <td>1</td>\n",
       "      <td>0</td>\n",
       "    </tr>\n",
       "    <tr>\n",
       "      <th>69686</th>\n",
       "      <td>99536</td>\n",
       "      <td>20321</td>\n",
       "      <td>2</td>\n",
       "      <td>174</td>\n",
       "      <td>86.0</td>\n",
       "      <td>120</td>\n",
       "      <td>80</td>\n",
       "      <td>1</td>\n",
       "      <td>0</td>\n",
       "    </tr>\n",
       "    <tr>\n",
       "      <th>25673</th>\n",
       "      <td>36645</td>\n",
       "      <td>18108</td>\n",
       "      <td>2</td>\n",
       "      <td>184</td>\n",
       "      <td>126.0</td>\n",
       "      <td>130</td>\n",
       "      <td>80</td>\n",
       "      <td>1</td>\n",
       "      <td>0</td>\n",
       "    </tr>\n",
       "    <tr>\n",
       "      <th>58760</th>\n",
       "      <td>83860</td>\n",
       "      <td>18981</td>\n",
       "      <td>1</td>\n",
       "      <td>160</td>\n",
       "      <td>90.0</td>\n",
       "      <td>130</td>\n",
       "      <td>80</td>\n",
       "      <td>1</td>\n",
       "      <td>0</td>\n",
       "    </tr>\n",
       "  </tbody>\n",
       "</table>\n",
       "</div>"
      ],
      "text/plain": [
       "          id    age  gender  height  weight  ap_hi  ap_lo  cholesterol  smoke\n",
       "38789  55375  22096       1     165    57.0    120     80            1      0\n",
       "1182    1650  22124       1     167    68.0    120     80            1      0\n",
       "69686  99536  20321       2     174    86.0    120     80            1      0\n",
       "25673  36645  18108       2     184   126.0    130     80            1      0\n",
       "58760  83860  18981       1     160    90.0    130     80            1      0"
      ]
     },
     "execution_count": 335,
     "metadata": {},
     "output_type": "execute_result"
    }
   ],
   "source": [
    "# Basic Settings\n",
    "csv_folder_name = \"health_dataset\"  # please, change the folder name (where the CSV files are stored) if need be\n",
    "notebook_location = \"C:\\\\Users\\\\caiov\\\\OneDrive - UCLA IT Services\\\\Documentos\\\\DataScience\\\\Datasets\" # set the location where this notebook is saved\n",
    "csv_folder_path = notebook_location + \"\\\\\" + csv_folder_name  # set path for the CSV files\n",
    "os.chdir(csv_folder_path)                                     # set location of CSV files\n",
    "\n",
    "# Save cvs Data on a Pandas Dataframe\n",
    "df = pd.read_csv(\"cardio_base.csv\", sep = \",\", skipinitialspace = True) #skip space after delimiter if need be\n",
    "\n",
    "# Save a Copy of the Dataframe\n",
    "data = df.copy()\n",
    "\n",
    "# Dataset Manipulation\n",
    "data.name = \"Cardio Base Dataset\" # rename the dataset \n",
    "cols = data.columns;              # create an index list with feature names\n",
    "\n",
    "# Quick Overview of a Sample from the Data\n",
    "pd.set_option(\"display.max_columns\", None) # changing the max_columns value\n",
    "data.sample(5)"
   ]
  },
  {
   "cell_type": "markdown",
   "metadata": {},
   "source": [
    "### Variables\n",
    "\n",
    "Let's take a closer look at the variables and their documentation.\n",
    "\n",
    "| Feature | variable name | variable | value type |\n",
    "|:-------|:---------------|:--------------|:-----------|\n",
    "| Unique ID                | Discrete Variable   | id          | int\n",
    "| Age                      | Discrete Variable   | age         | int (days)\n",
    "| Gender                   | Discrete Variable   | gender      | int (binary)\n",
    "| Height                   | Continuous Variable | height      | int (cm)\n",
    "| Weight                   | Continuous Variable | weight      | float (kg)\n",
    "| Systolic blood pressure  | Continuous Variable | ap_hi       | int\n",
    "| Diastolic blood pressure | Continuous Variable | ap_lo       | int\n",
    "| Cholesterol              | Discrete Variable   | cholesterol | int (1: normal, 2: above normal, 3: well above normal)\n",
    "| Smoking                  | Discrete Variable   | smoke       | int (binary)"
   ]
  },
  {
   "cell_type": "markdown",
   "metadata": {},
   "source": [
    "### Important Definitions\n",
    "\n",
    "[Definition] Continuous variables: Those related to real numbers in mathematics (e.g.: 1.034), usually expressed as float64 in computer science to allow for precision.\n",
    "\n",
    "[Definition] Discrete variables:   Those related to integer numbers (e.g.: 34), usually expressed as int64 in computer science where precision is not needed.\n",
    "\n",
    "[Definition] Indicator variables: Those related to Categorical variables that were assigned unique different numbers for unique different categories."
   ]
  },
  {
   "cell_type": "markdown",
   "metadata": {},
   "source": [
    "## Exploratory Data Analysis (EDA)"
   ]
  },
  {
   "cell_type": "markdown",
   "metadata": {},
   "source": [
    "### Plotting Objectives\n",
    "Before diving into the EDA, it is good to have a clear goal in mind. Our goal is to calculate some descriptive statistics.\n",
    "\n",
    "Given our goal, the following points should help explore and visualize data accordingly:\n",
    " * Check features and their distributions, unidimensionally.\n",
    " * Check correlation between features, bidimensionally."
   ]
  },
  {
   "cell_type": "markdown",
   "metadata": {},
   "source": [
    "### Defining Functions for EDA"
   ]
  },
  {
   "cell_type": "code",
   "execution_count": 336,
   "metadata": {},
   "outputs": [],
   "source": [
    "### DATA ANALYSIS PART ###\n",
    "\n",
    "# Checking Shape\n",
    "def data_shape(data):\n",
    "    print(\"Dataset shape: \" + str(data.shape[0]) + \" observations and \" + str(data.shape[1]) + \" features.\")\n",
    "\n",
    "# Check Size\n",
    "def data_size(data):\n",
    "    print(\"This dataset has a total of: \" + str(data.size) + \" entries.\")\n",
    "\n",
    "# Check Information\n",
    "def data_info(data):\n",
    "    print(data.name)\n",
    "    print(\"--------------------------------------\")\n",
    "    data.info()\n",
    "    print(\"--------------------------------------\")  \n",
    "    \n",
    "# Get Unique Values - Indicator Variables\n",
    "def unique_values(data):                                          # define a function (output: unique values for indicator variables)\n",
    "    indicator_cols = ['gender', 'cholesterol', 'smoke']\n",
    "    for i in indicator_cols:                                                # cols is the list of features from this dataset defined in the \"Importing the Dataset\" section above\n",
    "        print('Unique values in', i, 'are', data[i].unique()) # calls function unique() to find get unique values\n",
    "        print('----------------------------------------------------------------------------------------------------')\n",
    "\n",
    "# Check for Missing Values\n",
    "def missing_values(data):\n",
    "    print('Checking for missing values in the', data.name) # data.name has been defined previously in the \"Importing\" section\n",
    "    print('------------------------------------------------------------')\n",
    "    print(data.isna().sum())\n",
    "    print('------------------------------------------------------------')\n",
    "\n",
    "# Save Data - Continuous Variables\n",
    "def save_cont_data(data):\n",
    "    cont_data = data.select_dtypes(include = ['float64'])\n",
    "    return cont_data\n",
    "    \n",
    "# Save Data - Indicator Variable\n",
    "def save_ind_data(data):\n",
    "    ind_data = data.select_dtypes(exclude = ['float64'])\n",
    "    return ind_data\n",
    "\n",
    "# IQR Method - Detecting Outliers\n",
    "def iqr_method(potential_outliers, data_copy): #arg 1 takes list of features with potential outliers, arg2 \n",
    "    i = 1\n",
    "    for col in potential_outliers:\n",
    "        Q1 = data_copy[col].quantile(0.25)\n",
    "        Q3 = data_copy[col].quantile(0.75)\n",
    "        IQR = Q3 - Q1\n",
    "        print(f'column {i}: {data_copy[col].name}\\n------------------------')\n",
    "        print('1st quantile => ',Q1)\n",
    "        print('3rd quantile => ',Q3)\n",
    "        print('IQR =>',IQR)\n",
    "\n",
    "        lower_bound  = Q1-(1.5*IQR)\n",
    "        print('lower_bound => ' + str(lower_bound))\n",
    "\n",
    "        upper_bound = Q3+(1.5*IQR)\n",
    "        print('upper_bound => ' + str(upper_bound))\n",
    "        print(\"\\n------------------------\")\n",
    "        \n",
    "        i = i + 1\n",
    "\n",
    "        data_copy[col][((data_copy[col] < lower_bound) | (data_copy[col] > upper_bound))] = np.nan  # replacing outliers with NaN\n",
    "\n",
    "\n",
    "### VISUALIZATION PART ###\n",
    "\n",
    "# Plot Probability Distributions - Continuous Variables\n",
    "def pdf_plot_cont(cont_data):\n",
    "    for i in cont_data:\n",
    "        ax = sns.displot(cont_data[i])\n",
    "        plt.show()\n",
    "\n",
    "# Plot Bar Plots - Discrete Variables (and order by value_counts within them)\n",
    "def bar_plot_cat(cat_data):\n",
    "    plt.figure(figsize=(20,4))\n",
    "    for i in cat_data:\n",
    "        ax = sns.countplot(y = cat_data[i], order = cat_data[i].value_counts().index)\n",
    "        plt.show()\n",
    "\n",
    "# Plot Box Plots - Continuous Variables\n",
    "def box_plot(potential_outliers, cont_data): # the first argument takes a list of features and the second the dataset\n",
    "    for i in potential_outliers:\n",
    "        ax = sns.boxplot(x = cont_data[i], orient = 'h')\n",
    "        plt.show()\n"
   ]
  },
  {
   "cell_type": "markdown",
   "metadata": {},
   "source": [
    "### Shape and Size"
   ]
  },
  {
   "cell_type": "code",
   "execution_count": 337,
   "metadata": {},
   "outputs": [
    {
     "name": "stdout",
     "output_type": "stream",
     "text": [
      "Dataset shape: 70000 observations and 9 features.\n",
      "This dataset has a total of: 630000 entries.\n"
     ]
    }
   ],
   "source": [
    "# Check Shape and Size\n",
    "data_shape(data) # calls shape function\n",
    "data_size(data)  # calls size function"
   ]
  },
  {
   "cell_type": "markdown",
   "metadata": {},
   "source": [
    "### Types"
   ]
  },
  {
   "cell_type": "code",
   "execution_count": 338,
   "metadata": {},
   "outputs": [
    {
     "name": "stdout",
     "output_type": "stream",
     "text": [
      "Cardio Base Dataset\n",
      "--------------------------------------\n",
      "<class 'pandas.core.frame.DataFrame'>\n",
      "RangeIndex: 70000 entries, 0 to 69999\n",
      "Data columns (total 9 columns):\n",
      " #   Column       Non-Null Count  Dtype  \n",
      "---  ------       --------------  -----  \n",
      " 0   id           70000 non-null  int64  \n",
      " 1   age          70000 non-null  int64  \n",
      " 2   gender       70000 non-null  int64  \n",
      " 3   height       70000 non-null  int64  \n",
      " 4   weight       70000 non-null  float64\n",
      " 5   ap_hi        70000 non-null  int64  \n",
      " 6   ap_lo        70000 non-null  int64  \n",
      " 7   cholesterol  70000 non-null  int64  \n",
      " 8   smoke        70000 non-null  int64  \n",
      "dtypes: float64(1), int64(8)\n",
      "memory usage: 4.8 MB\n",
      "--------------------------------------\n"
     ]
    }
   ],
   "source": [
    "# Check Data Type\n",
    "data_info(data) # calls info function"
   ]
  },
  {
   "cell_type": "markdown",
   "metadata": {},
   "source": [
    "All features have the expected type, but height, which should be interpreted as float.\n",
    "\n",
    "Notice that all non-null counts are the same, so the dataset does not seem to have missing values. \n",
    "\n",
    "However, it is always good to check whether discrete variables have the expected values. These are: __gender, cholesterol, smoke__. \n",
    "\n",
    "For that, we will look into _Unique values_."
   ]
  },
  {
   "cell_type": "code",
   "execution_count": 339,
   "metadata": {},
   "outputs": [
    {
     "name": "stdout",
     "output_type": "stream",
     "text": [
      "<class 'pandas.core.frame.DataFrame'>\n",
      "RangeIndex: 70000 entries, 0 to 69999\n",
      "Data columns (total 9 columns):\n",
      " #   Column       Non-Null Count  Dtype  \n",
      "---  ------       --------------  -----  \n",
      " 0   id           70000 non-null  int64  \n",
      " 1   age          70000 non-null  int64  \n",
      " 2   gender       70000 non-null  int64  \n",
      " 3   height       70000 non-null  float64\n",
      " 4   weight       70000 non-null  float64\n",
      " 5   ap_hi        70000 non-null  float64\n",
      " 6   ap_lo        70000 non-null  float64\n",
      " 7   cholesterol  70000 non-null  int64  \n",
      " 8   smoke        70000 non-null  int64  \n",
      "dtypes: float64(4), int64(5)\n",
      "memory usage: 4.8 MB\n"
     ]
    }
   ],
   "source": [
    "# Converting height, ap_hi, and ap_lo types from int to float\n",
    "data['height'] = data['height'].astype('float64')\n",
    "data['ap_hi'] = data['ap_hi'].astype('float64')\n",
    "data['ap_lo'] = data['ap_lo'].astype('float64')\n",
    "\n",
    "# Check new type for Height\n",
    "data.info()"
   ]
  },
  {
   "cell_type": "markdown",
   "metadata": {},
   "source": [
    "### Unique Values\n",
    "Let's take a closer look into the discrete variables."
   ]
  },
  {
   "cell_type": "code",
   "execution_count": 340,
   "metadata": {},
   "outputs": [
    {
     "name": "stdout",
     "output_type": "stream",
     "text": [
      "Unique values in gender are [2 1]\n",
      "----------------------------------------------------------------------------------------------------\n",
      "Unique values in cholesterol are [1 3 2]\n",
      "----------------------------------------------------------------------------------------------------\n",
      "Unique values in smoke are [0 1]\n",
      "----------------------------------------------------------------------------------------------------\n"
     ]
    }
   ],
   "source": [
    "# Check for unique values - Discrete variables\n",
    "unique_values(data) # calls unique values function"
   ]
  },
  {
   "cell_type": "markdown",
   "metadata": {},
   "source": [
    "All indicator variables the expected values. There are no inconsistent values."
   ]
  },
  {
   "cell_type": "markdown",
   "metadata": {},
   "source": [
    "### Missing Values"
   ]
  },
  {
   "cell_type": "code",
   "execution_count": 341,
   "metadata": {},
   "outputs": [
    {
     "name": "stdout",
     "output_type": "stream",
     "text": [
      "Checking for missing values in the Cardio Base Dataset\n",
      "------------------------------------------------------------\n",
      "id             0\n",
      "age            0\n",
      "gender         0\n",
      "height         0\n",
      "weight         0\n",
      "ap_hi          0\n",
      "ap_lo          0\n",
      "cholesterol    0\n",
      "smoke          0\n",
      "dtype: int64\n",
      "------------------------------------------------------------\n"
     ]
    }
   ],
   "source": [
    "# Check for missing values\n",
    "missing_values(data) # calls missing values function"
   ]
  },
  {
   "cell_type": "markdown",
   "metadata": {},
   "source": [
    "In this dataset, there is no missing values in the N/A format."
   ]
  },
  {
   "cell_type": "markdown",
   "metadata": {},
   "source": [
    "### Units Conversion\n",
    "\n",
    "Checking whether theer is a need for unit conversion in the given features.\n",
    "\n",
    "The variable age is in days, so we need to convert it to years and round it down, as requested. The other variables are okay."
   ]
  },
  {
   "cell_type": "code",
   "execution_count": 342,
   "metadata": {},
   "outputs": [
    {
     "name": "stdout",
     "output_type": "stream",
     "text": [
      "         age  age_years_float  age_years\n",
      "49342  22603        61.926027         61\n",
      "14754  20493        56.145205         56\n",
      "65408  20527        56.238356         56\n",
      "33913  22652        62.060274         62\n",
      "55853  19079        52.271233         52\n"
     ]
    },
    {
     "data": {
      "text/html": [
       "<div>\n",
       "<style scoped>\n",
       "    .dataframe tbody tr th:only-of-type {\n",
       "        vertical-align: middle;\n",
       "    }\n",
       "\n",
       "    .dataframe tbody tr th {\n",
       "        vertical-align: top;\n",
       "    }\n",
       "\n",
       "    .dataframe thead th {\n",
       "        text-align: right;\n",
       "    }\n",
       "</style>\n",
       "<table border=\"1\" class=\"dataframe\">\n",
       "  <thead>\n",
       "    <tr style=\"text-align: right;\">\n",
       "      <th></th>\n",
       "      <th>id</th>\n",
       "      <th>age</th>\n",
       "      <th>gender</th>\n",
       "      <th>height</th>\n",
       "      <th>weight</th>\n",
       "      <th>ap_hi</th>\n",
       "      <th>ap_lo</th>\n",
       "      <th>cholesterol</th>\n",
       "      <th>smoke</th>\n",
       "      <th>age_years</th>\n",
       "    </tr>\n",
       "  </thead>\n",
       "  <tbody>\n",
       "    <tr>\n",
       "      <th>0</th>\n",
       "      <td>0</td>\n",
       "      <td>18393</td>\n",
       "      <td>2</td>\n",
       "      <td>168.0</td>\n",
       "      <td>62.0</td>\n",
       "      <td>110.0</td>\n",
       "      <td>80.0</td>\n",
       "      <td>1</td>\n",
       "      <td>0</td>\n",
       "      <td>50</td>\n",
       "    </tr>\n",
       "    <tr>\n",
       "      <th>1</th>\n",
       "      <td>1</td>\n",
       "      <td>20228</td>\n",
       "      <td>1</td>\n",
       "      <td>156.0</td>\n",
       "      <td>85.0</td>\n",
       "      <td>140.0</td>\n",
       "      <td>90.0</td>\n",
       "      <td>3</td>\n",
       "      <td>0</td>\n",
       "      <td>55</td>\n",
       "    </tr>\n",
       "    <tr>\n",
       "      <th>2</th>\n",
       "      <td>2</td>\n",
       "      <td>18857</td>\n",
       "      <td>1</td>\n",
       "      <td>165.0</td>\n",
       "      <td>64.0</td>\n",
       "      <td>130.0</td>\n",
       "      <td>70.0</td>\n",
       "      <td>3</td>\n",
       "      <td>0</td>\n",
       "      <td>51</td>\n",
       "    </tr>\n",
       "    <tr>\n",
       "      <th>3</th>\n",
       "      <td>3</td>\n",
       "      <td>17623</td>\n",
       "      <td>2</td>\n",
       "      <td>169.0</td>\n",
       "      <td>82.0</td>\n",
       "      <td>150.0</td>\n",
       "      <td>100.0</td>\n",
       "      <td>1</td>\n",
       "      <td>0</td>\n",
       "      <td>48</td>\n",
       "    </tr>\n",
       "    <tr>\n",
       "      <th>4</th>\n",
       "      <td>4</td>\n",
       "      <td>17474</td>\n",
       "      <td>1</td>\n",
       "      <td>156.0</td>\n",
       "      <td>56.0</td>\n",
       "      <td>100.0</td>\n",
       "      <td>60.0</td>\n",
       "      <td>1</td>\n",
       "      <td>0</td>\n",
       "      <td>47</td>\n",
       "    </tr>\n",
       "  </tbody>\n",
       "</table>\n",
       "</div>"
      ],
      "text/plain": [
       "   id    age  gender  height  weight  ap_hi  ap_lo  cholesterol  smoke  \\\n",
       "0   0  18393       2   168.0    62.0  110.0   80.0            1      0   \n",
       "1   1  20228       1   156.0    85.0  140.0   90.0            3      0   \n",
       "2   2  18857       1   165.0    64.0  130.0   70.0            3      0   \n",
       "3   3  17623       2   169.0    82.0  150.0  100.0            1      0   \n",
       "4   4  17474       1   156.0    56.0  100.0   60.0            1      0   \n",
       "\n",
       "   age_years  \n",
       "0         50  \n",
       "1         55  \n",
       "2         51  \n",
       "3         48  \n",
       "4         47  "
      ]
     },
     "execution_count": 342,
     "metadata": {},
     "output_type": "execute_result"
    }
   ],
   "source": [
    "# Converting Age from days to years .apply(np.floor)\n",
    "data['age_years_float'] = (data['age'] / 365)\n",
    "data['age_years'] = (data['age'] / 365).apply(np.floor).astype(int)\n",
    "\n",
    "# Quick overview of age conversion\n",
    "print(data[['age', 'age_years_float', 'age_years']].sample(5))\n",
    "\n",
    "# Drop unecessary feature\n",
    "data = data.drop(columns='age_years_float')\n",
    "\n",
    "# Quickly check new data\n",
    "data.head()"
   ]
  },
  {
   "cell_type": "markdown",
   "metadata": {},
   "source": [
    "### Continuous and Indicator Variables"
   ]
  },
  {
   "cell_type": "code",
   "execution_count": 343,
   "metadata": {},
   "outputs": [
    {
     "data": {
      "text/html": [
       "<div>\n",
       "<style scoped>\n",
       "    .dataframe tbody tr th:only-of-type {\n",
       "        vertical-align: middle;\n",
       "    }\n",
       "\n",
       "    .dataframe tbody tr th {\n",
       "        vertical-align: top;\n",
       "    }\n",
       "\n",
       "    .dataframe thead th {\n",
       "        text-align: right;\n",
       "    }\n",
       "</style>\n",
       "<table border=\"1\" class=\"dataframe\">\n",
       "  <thead>\n",
       "    <tr style=\"text-align: right;\">\n",
       "      <th></th>\n",
       "      <th>height</th>\n",
       "      <th>weight</th>\n",
       "      <th>ap_hi</th>\n",
       "      <th>ap_lo</th>\n",
       "    </tr>\n",
       "  </thead>\n",
       "  <tbody>\n",
       "    <tr>\n",
       "      <th>519</th>\n",
       "      <td>176.0</td>\n",
       "      <td>90.0</td>\n",
       "      <td>140.0</td>\n",
       "      <td>100.0</td>\n",
       "    </tr>\n",
       "    <tr>\n",
       "      <th>13168</th>\n",
       "      <td>164.0</td>\n",
       "      <td>88.0</td>\n",
       "      <td>110.0</td>\n",
       "      <td>70.0</td>\n",
       "    </tr>\n",
       "    <tr>\n",
       "      <th>42448</th>\n",
       "      <td>158.0</td>\n",
       "      <td>70.0</td>\n",
       "      <td>140.0</td>\n",
       "      <td>90.0</td>\n",
       "    </tr>\n",
       "    <tr>\n",
       "      <th>49804</th>\n",
       "      <td>159.0</td>\n",
       "      <td>60.0</td>\n",
       "      <td>140.0</td>\n",
       "      <td>80.0</td>\n",
       "    </tr>\n",
       "    <tr>\n",
       "      <th>26864</th>\n",
       "      <td>163.0</td>\n",
       "      <td>105.0</td>\n",
       "      <td>150.0</td>\n",
       "      <td>90.0</td>\n",
       "    </tr>\n",
       "  </tbody>\n",
       "</table>\n",
       "</div>"
      ],
      "text/plain": [
       "       height  weight  ap_hi  ap_lo\n",
       "519     176.0    90.0  140.0  100.0\n",
       "13168   164.0    88.0  110.0   70.0\n",
       "42448   158.0    70.0  140.0   90.0\n",
       "49804   159.0    60.0  140.0   80.0\n",
       "26864   163.0   105.0  150.0   90.0"
      ]
     },
     "execution_count": 343,
     "metadata": {},
     "output_type": "execute_result"
    }
   ],
   "source": [
    "# Save continuous dataset into a new dataset for later use\n",
    "cont_data = save_cont_data(data) #calls save_cont_data function\n",
    "\n",
    "# Quick Overview\n",
    "cont_data.sample(5)"
   ]
  },
  {
   "cell_type": "code",
   "execution_count": 344,
   "metadata": {},
   "outputs": [
    {
     "data": {
      "text/html": [
       "<div>\n",
       "<style scoped>\n",
       "    .dataframe tbody tr th:only-of-type {\n",
       "        vertical-align: middle;\n",
       "    }\n",
       "\n",
       "    .dataframe tbody tr th {\n",
       "        vertical-align: top;\n",
       "    }\n",
       "\n",
       "    .dataframe thead th {\n",
       "        text-align: right;\n",
       "    }\n",
       "</style>\n",
       "<table border=\"1\" class=\"dataframe\">\n",
       "  <thead>\n",
       "    <tr style=\"text-align: right;\">\n",
       "      <th></th>\n",
       "      <th>id</th>\n",
       "      <th>age</th>\n",
       "      <th>gender</th>\n",
       "      <th>cholesterol</th>\n",
       "      <th>smoke</th>\n",
       "      <th>age_years</th>\n",
       "    </tr>\n",
       "  </thead>\n",
       "  <tbody>\n",
       "    <tr>\n",
       "      <th>23902</th>\n",
       "      <td>34170</td>\n",
       "      <td>21867</td>\n",
       "      <td>2</td>\n",
       "      <td>1</td>\n",
       "      <td>0</td>\n",
       "      <td>59</td>\n",
       "    </tr>\n",
       "    <tr>\n",
       "      <th>28223</th>\n",
       "      <td>40347</td>\n",
       "      <td>18927</td>\n",
       "      <td>2</td>\n",
       "      <td>3</td>\n",
       "      <td>0</td>\n",
       "      <td>51</td>\n",
       "    </tr>\n",
       "    <tr>\n",
       "      <th>8954</th>\n",
       "      <td>12765</td>\n",
       "      <td>18389</td>\n",
       "      <td>1</td>\n",
       "      <td>1</td>\n",
       "      <td>0</td>\n",
       "      <td>50</td>\n",
       "    </tr>\n",
       "    <tr>\n",
       "      <th>43136</th>\n",
       "      <td>61621</td>\n",
       "      <td>19657</td>\n",
       "      <td>1</td>\n",
       "      <td>1</td>\n",
       "      <td>0</td>\n",
       "      <td>53</td>\n",
       "    </tr>\n",
       "    <tr>\n",
       "      <th>15037</th>\n",
       "      <td>21499</td>\n",
       "      <td>19734</td>\n",
       "      <td>1</td>\n",
       "      <td>1</td>\n",
       "      <td>0</td>\n",
       "      <td>54</td>\n",
       "    </tr>\n",
       "  </tbody>\n",
       "</table>\n",
       "</div>"
      ],
      "text/plain": [
       "          id    age  gender  cholesterol  smoke  age_years\n",
       "23902  34170  21867       2            1      0         59\n",
       "28223  40347  18927       2            3      0         51\n",
       "8954   12765  18389       1            1      0         50\n",
       "43136  61621  19657       1            1      0         53\n",
       "15037  21499  19734       1            1      0         54"
      ]
     },
     "execution_count": 344,
     "metadata": {},
     "output_type": "execute_result"
    }
   ],
   "source": [
    "# Save indicator dataset into a new dataset for later use\n",
    "ind_data = save_ind_data(data)\n",
    "\n",
    "# Quick Overview\n",
    "ind_data.sample(5)"
   ]
  }
 ],
 "metadata": {
  "interpreter": {
   "hash": "ac7dd041828cf56631353191c608ccde6a0be02c5ac588a2993150c1410b91d4"
  },
  "kernelspec": {
   "display_name": "Python 3.9.7 ('base')",
   "language": "python",
   "name": "python3"
  },
  "language_info": {
   "codemirror_mode": {
    "name": "ipython",
    "version": 3
   },
   "file_extension": ".py",
   "mimetype": "text/x-python",
   "name": "python",
   "nbconvert_exporter": "python",
   "pygments_lexer": "ipython3",
   "version": "3.9.7"
  },
  "orig_nbformat": 4
 },
 "nbformat": 4,
 "nbformat_minor": 2
}
